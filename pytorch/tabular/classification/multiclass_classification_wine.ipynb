{
 "cells": [
  {
   "cell_type": "markdown",
   "metadata": {},
   "source": [
    "# Tabular - Mutliclass Classification using DNNs\n",
    "By [Akshaj Verma](https://akshajverma.com/)\n",
    "\n",
    "This notebook takes you through the implementation of multiclass classification using feedforward networks on the [wine dataset](https://www.kaggle.com/uciml/red-wine-quality-cortez-et-al-2009) using PyTorch."
   ]
  },
  {
   "cell_type": "markdown",
   "metadata": {},
   "source": [
    "We will use the wine dataset available on Kaggle. This dataset has 12 columns where the first 11 are the features and the last column is the target column. The data set has 1599 rows."
   ]
  },
  {
   "cell_type": "code",
   "execution_count": 1,
   "metadata": {},
   "outputs": [],
   "source": [
    "import numpy as np\n",
    "import pandas as pd\n",
    "import seaborn as sns\n",
    "from tqdm.notebook import tqdm\n",
    "import matplotlib.pyplot as plt\n",
    "\n",
    "import torch\n",
    "import torch.nn as nn\n",
    "import torch.optim as optim\n",
    "from torch.utils.data import Dataset, DataLoader, WeightedRandomSampler\n",
    "\n",
    "from sklearn.preprocessing import MinMaxScaler    \n",
    "from sklearn.model_selection import train_test_split\n",
    "from sklearn.metrics import confusion_matrix, classification_report"
   ]
  },
  {
   "cell_type": "code",
   "execution_count": 2,
   "metadata": {},
   "outputs": [],
   "source": [
    "torch.manual_seed(69)\n",
    "np.random.seed(21)"
   ]
  },
  {
   "cell_type": "code",
   "execution_count": 3,
   "metadata": {},
   "outputs": [
    {
     "name": "stdout",
     "output_type": "stream",
     "text": [
      "We're using cuda? True\n"
     ]
    }
   ],
   "source": [
    "%matplotlib inline\n",
    "sns.set_style('darkgrid')\n",
    "\n",
    "print(\"We're using cuda?\", torch.cuda.is_available())"
   ]
  },
  {
   "cell_type": "code",
   "execution_count": 4,
   "metadata": {},
   "outputs": [],
   "source": [
    "df = pd.read_csv(\"../../../data/tabular/classification/winequality-red.csv\")"
   ]
  },
  {
   "cell_type": "markdown",
   "metadata": {},
   "source": [
    "## Pre-processing"
   ]
  },
  {
   "cell_type": "code",
   "execution_count": 5,
   "metadata": {},
   "outputs": [
    {
     "data": {
      "text/html": [
       "<div>\n",
       "<style scoped>\n",
       "    .dataframe tbody tr th:only-of-type {\n",
       "        vertical-align: middle;\n",
       "    }\n",
       "\n",
       "    .dataframe tbody tr th {\n",
       "        vertical-align: top;\n",
       "    }\n",
       "\n",
       "    .dataframe thead th {\n",
       "        text-align: right;\n",
       "    }\n",
       "</style>\n",
       "<table border=\"1\" class=\"dataframe\">\n",
       "  <thead>\n",
       "    <tr style=\"text-align: right;\">\n",
       "      <th></th>\n",
       "      <th>fixed acidity</th>\n",
       "      <th>volatile acidity</th>\n",
       "      <th>citric acid</th>\n",
       "      <th>residual sugar</th>\n",
       "      <th>chlorides</th>\n",
       "      <th>free sulfur dioxide</th>\n",
       "      <th>total sulfur dioxide</th>\n",
       "      <th>density</th>\n",
       "      <th>pH</th>\n",
       "      <th>sulphates</th>\n",
       "      <th>alcohol</th>\n",
       "      <th>quality</th>\n",
       "    </tr>\n",
       "  </thead>\n",
       "  <tbody>\n",
       "    <tr>\n",
       "      <th>0</th>\n",
       "      <td>7.4</td>\n",
       "      <td>0.70</td>\n",
       "      <td>0.00</td>\n",
       "      <td>1.9</td>\n",
       "      <td>0.076</td>\n",
       "      <td>11.0</td>\n",
       "      <td>34.0</td>\n",
       "      <td>0.9978</td>\n",
       "      <td>3.51</td>\n",
       "      <td>0.56</td>\n",
       "      <td>9.4</td>\n",
       "      <td>5</td>\n",
       "    </tr>\n",
       "    <tr>\n",
       "      <th>1</th>\n",
       "      <td>7.8</td>\n",
       "      <td>0.88</td>\n",
       "      <td>0.00</td>\n",
       "      <td>2.6</td>\n",
       "      <td>0.098</td>\n",
       "      <td>25.0</td>\n",
       "      <td>67.0</td>\n",
       "      <td>0.9968</td>\n",
       "      <td>3.20</td>\n",
       "      <td>0.68</td>\n",
       "      <td>9.8</td>\n",
       "      <td>5</td>\n",
       "    </tr>\n",
       "    <tr>\n",
       "      <th>2</th>\n",
       "      <td>7.8</td>\n",
       "      <td>0.76</td>\n",
       "      <td>0.04</td>\n",
       "      <td>2.3</td>\n",
       "      <td>0.092</td>\n",
       "      <td>15.0</td>\n",
       "      <td>54.0</td>\n",
       "      <td>0.9970</td>\n",
       "      <td>3.26</td>\n",
       "      <td>0.65</td>\n",
       "      <td>9.8</td>\n",
       "      <td>5</td>\n",
       "    </tr>\n",
       "    <tr>\n",
       "      <th>3</th>\n",
       "      <td>11.2</td>\n",
       "      <td>0.28</td>\n",
       "      <td>0.56</td>\n",
       "      <td>1.9</td>\n",
       "      <td>0.075</td>\n",
       "      <td>17.0</td>\n",
       "      <td>60.0</td>\n",
       "      <td>0.9980</td>\n",
       "      <td>3.16</td>\n",
       "      <td>0.58</td>\n",
       "      <td>9.8</td>\n",
       "      <td>6</td>\n",
       "    </tr>\n",
       "    <tr>\n",
       "      <th>4</th>\n",
       "      <td>7.4</td>\n",
       "      <td>0.70</td>\n",
       "      <td>0.00</td>\n",
       "      <td>1.9</td>\n",
       "      <td>0.076</td>\n",
       "      <td>11.0</td>\n",
       "      <td>34.0</td>\n",
       "      <td>0.9978</td>\n",
       "      <td>3.51</td>\n",
       "      <td>0.56</td>\n",
       "      <td>9.4</td>\n",
       "      <td>5</td>\n",
       "    </tr>\n",
       "  </tbody>\n",
       "</table>\n",
       "</div>"
      ],
      "text/plain": [
       "   fixed acidity  volatile acidity  citric acid  residual sugar  chlorides  \\\n",
       "0            7.4              0.70         0.00             1.9      0.076   \n",
       "1            7.8              0.88         0.00             2.6      0.098   \n",
       "2            7.8              0.76         0.04             2.3      0.092   \n",
       "3           11.2              0.28         0.56             1.9      0.075   \n",
       "4            7.4              0.70         0.00             1.9      0.076   \n",
       "\n",
       "   free sulfur dioxide  total sulfur dioxide  density    pH  sulphates  \\\n",
       "0                 11.0                  34.0   0.9978  3.51       0.56   \n",
       "1                 25.0                  67.0   0.9968  3.20       0.68   \n",
       "2                 15.0                  54.0   0.9970  3.26       0.65   \n",
       "3                 17.0                  60.0   0.9980  3.16       0.58   \n",
       "4                 11.0                  34.0   0.9978  3.51       0.56   \n",
       "\n",
       "   alcohol  quality  \n",
       "0      9.4        5  \n",
       "1      9.8        5  \n",
       "2      9.8        5  \n",
       "3      9.8        6  \n",
       "4      9.4        5  "
      ]
     },
     "execution_count": 5,
     "metadata": {},
     "output_type": "execute_result"
    }
   ],
   "source": [
    "df.head()"
   ]
  },
  {
   "cell_type": "code",
   "execution_count": 6,
   "metadata": {},
   "outputs": [
    {
     "name": "stdout",
     "output_type": "stream",
     "text": [
      "Number of rows: 1599\n"
     ]
    }
   ],
   "source": [
    "print(\"Number of rows:\", len(df))"
   ]
  },
  {
   "cell_type": "code",
   "execution_count": 7,
   "metadata": {},
   "outputs": [
    {
     "data": {
      "text/html": [
       "<div>\n",
       "<style scoped>\n",
       "    .dataframe tbody tr th:only-of-type {\n",
       "        vertical-align: middle;\n",
       "    }\n",
       "\n",
       "    .dataframe tbody tr th {\n",
       "        vertical-align: top;\n",
       "    }\n",
       "\n",
       "    .dataframe thead th {\n",
       "        text-align: right;\n",
       "    }\n",
       "</style>\n",
       "<table border=\"1\" class=\"dataframe\">\n",
       "  <thead>\n",
       "    <tr style=\"text-align: right;\">\n",
       "      <th></th>\n",
       "      <th>fixed acidity</th>\n",
       "      <th>volatile acidity</th>\n",
       "      <th>citric acid</th>\n",
       "      <th>residual sugar</th>\n",
       "      <th>chlorides</th>\n",
       "      <th>free sulfur dioxide</th>\n",
       "      <th>total sulfur dioxide</th>\n",
       "      <th>density</th>\n",
       "      <th>pH</th>\n",
       "      <th>sulphates</th>\n",
       "      <th>alcohol</th>\n",
       "      <th>quality</th>\n",
       "    </tr>\n",
       "  </thead>\n",
       "  <tbody>\n",
       "    <tr>\n",
       "      <th>count</th>\n",
       "      <td>1599.000000</td>\n",
       "      <td>1599.000000</td>\n",
       "      <td>1599.000000</td>\n",
       "      <td>1599.000000</td>\n",
       "      <td>1599.000000</td>\n",
       "      <td>1599.000000</td>\n",
       "      <td>1599.000000</td>\n",
       "      <td>1599.000000</td>\n",
       "      <td>1599.000000</td>\n",
       "      <td>1599.000000</td>\n",
       "      <td>1599.000000</td>\n",
       "      <td>1599.000000</td>\n",
       "    </tr>\n",
       "    <tr>\n",
       "      <th>mean</th>\n",
       "      <td>8.319637</td>\n",
       "      <td>0.527821</td>\n",
       "      <td>0.270976</td>\n",
       "      <td>2.538806</td>\n",
       "      <td>0.087467</td>\n",
       "      <td>15.874922</td>\n",
       "      <td>46.467792</td>\n",
       "      <td>0.996747</td>\n",
       "      <td>3.311113</td>\n",
       "      <td>0.658149</td>\n",
       "      <td>10.422983</td>\n",
       "      <td>5.636023</td>\n",
       "    </tr>\n",
       "    <tr>\n",
       "      <th>std</th>\n",
       "      <td>1.741096</td>\n",
       "      <td>0.179060</td>\n",
       "      <td>0.194801</td>\n",
       "      <td>1.409928</td>\n",
       "      <td>0.047065</td>\n",
       "      <td>10.460157</td>\n",
       "      <td>32.895324</td>\n",
       "      <td>0.001887</td>\n",
       "      <td>0.154386</td>\n",
       "      <td>0.169507</td>\n",
       "      <td>1.065668</td>\n",
       "      <td>0.807569</td>\n",
       "    </tr>\n",
       "    <tr>\n",
       "      <th>min</th>\n",
       "      <td>4.600000</td>\n",
       "      <td>0.120000</td>\n",
       "      <td>0.000000</td>\n",
       "      <td>0.900000</td>\n",
       "      <td>0.012000</td>\n",
       "      <td>1.000000</td>\n",
       "      <td>6.000000</td>\n",
       "      <td>0.990070</td>\n",
       "      <td>2.740000</td>\n",
       "      <td>0.330000</td>\n",
       "      <td>8.400000</td>\n",
       "      <td>3.000000</td>\n",
       "    </tr>\n",
       "    <tr>\n",
       "      <th>25%</th>\n",
       "      <td>7.100000</td>\n",
       "      <td>0.390000</td>\n",
       "      <td>0.090000</td>\n",
       "      <td>1.900000</td>\n",
       "      <td>0.070000</td>\n",
       "      <td>7.000000</td>\n",
       "      <td>22.000000</td>\n",
       "      <td>0.995600</td>\n",
       "      <td>3.210000</td>\n",
       "      <td>0.550000</td>\n",
       "      <td>9.500000</td>\n",
       "      <td>5.000000</td>\n",
       "    </tr>\n",
       "    <tr>\n",
       "      <th>50%</th>\n",
       "      <td>7.900000</td>\n",
       "      <td>0.520000</td>\n",
       "      <td>0.260000</td>\n",
       "      <td>2.200000</td>\n",
       "      <td>0.079000</td>\n",
       "      <td>14.000000</td>\n",
       "      <td>38.000000</td>\n",
       "      <td>0.996750</td>\n",
       "      <td>3.310000</td>\n",
       "      <td>0.620000</td>\n",
       "      <td>10.200000</td>\n",
       "      <td>6.000000</td>\n",
       "    </tr>\n",
       "    <tr>\n",
       "      <th>75%</th>\n",
       "      <td>9.200000</td>\n",
       "      <td>0.640000</td>\n",
       "      <td>0.420000</td>\n",
       "      <td>2.600000</td>\n",
       "      <td>0.090000</td>\n",
       "      <td>21.000000</td>\n",
       "      <td>62.000000</td>\n",
       "      <td>0.997835</td>\n",
       "      <td>3.400000</td>\n",
       "      <td>0.730000</td>\n",
       "      <td>11.100000</td>\n",
       "      <td>6.000000</td>\n",
       "    </tr>\n",
       "    <tr>\n",
       "      <th>max</th>\n",
       "      <td>15.900000</td>\n",
       "      <td>1.580000</td>\n",
       "      <td>1.000000</td>\n",
       "      <td>15.500000</td>\n",
       "      <td>0.611000</td>\n",
       "      <td>72.000000</td>\n",
       "      <td>289.000000</td>\n",
       "      <td>1.003690</td>\n",
       "      <td>4.010000</td>\n",
       "      <td>2.000000</td>\n",
       "      <td>14.900000</td>\n",
       "      <td>8.000000</td>\n",
       "    </tr>\n",
       "  </tbody>\n",
       "</table>\n",
       "</div>"
      ],
      "text/plain": [
       "       fixed acidity  volatile acidity  citric acid  residual sugar  \\\n",
       "count    1599.000000       1599.000000  1599.000000     1599.000000   \n",
       "mean        8.319637          0.527821     0.270976        2.538806   \n",
       "std         1.741096          0.179060     0.194801        1.409928   \n",
       "min         4.600000          0.120000     0.000000        0.900000   \n",
       "25%         7.100000          0.390000     0.090000        1.900000   \n",
       "50%         7.900000          0.520000     0.260000        2.200000   \n",
       "75%         9.200000          0.640000     0.420000        2.600000   \n",
       "max        15.900000          1.580000     1.000000       15.500000   \n",
       "\n",
       "         chlorides  free sulfur dioxide  total sulfur dioxide      density  \\\n",
       "count  1599.000000          1599.000000           1599.000000  1599.000000   \n",
       "mean      0.087467            15.874922             46.467792     0.996747   \n",
       "std       0.047065            10.460157             32.895324     0.001887   \n",
       "min       0.012000             1.000000              6.000000     0.990070   \n",
       "25%       0.070000             7.000000             22.000000     0.995600   \n",
       "50%       0.079000            14.000000             38.000000     0.996750   \n",
       "75%       0.090000            21.000000             62.000000     0.997835   \n",
       "max       0.611000            72.000000            289.000000     1.003690   \n",
       "\n",
       "                pH    sulphates      alcohol      quality  \n",
       "count  1599.000000  1599.000000  1599.000000  1599.000000  \n",
       "mean      3.311113     0.658149    10.422983     5.636023  \n",
       "std       0.154386     0.169507     1.065668     0.807569  \n",
       "min       2.740000     0.330000     8.400000     3.000000  \n",
       "25%       3.210000     0.550000     9.500000     5.000000  \n",
       "50%       3.310000     0.620000    10.200000     6.000000  \n",
       "75%       3.400000     0.730000    11.100000     6.000000  \n",
       "max       4.010000     2.000000    14.900000     8.000000  "
      ]
     },
     "execution_count": 7,
     "metadata": {},
     "output_type": "execute_result"
    }
   ],
   "source": [
    "df.describe()"
   ]
  },
  {
   "cell_type": "markdown",
   "metadata": {},
   "source": [
    "First off, we plot the output rows to observe the class distribution. There's a lot of imbalance here. Classes 3, 4, and 8 have a very few number of samples."
   ]
  },
  {
   "cell_type": "code",
   "execution_count": 8,
   "metadata": {},
   "outputs": [
    {
     "data": {
      "text/plain": [
       "<AxesSubplot:xlabel='quality', ylabel='count'>"
      ]
     },
     "execution_count": 8,
     "metadata": {},
     "output_type": "execute_result"
    },
    {
     "data": {
      "image/png": "[encoded data removed]",
      "text/plain": [
       "<Figure size 432x288 with 1 Axes>"
      ]
     },
     "metadata": {},
     "output_type": "display_data"
    }
   ],
   "source": [
    "sns.countplot(x = 'quality', data=df)"
   ]
  },
  {
   "cell_type": "markdown",
   "metadata": {},
   "source": [
    "Next, we see that the output labels are from 3 to 8. That needs to change because PyTorch supports labels starting from 0. That is [0, n]. We need to remap our labels to start from 0.\n",
    "\n",
    "\n",
    "To do that, let's create a dictionary called class2idx  and use the .replace() method from the Pandas library to change it. Let's also create a reverse mapping called idx2class which converts the IDs back to their original classes.\n",
    "\n",
    "\n",
    "To create the reverse mapping, we create a dictionary comprehension and simply reverse the key and value."
   ]
  },
  {
   "cell_type": "code",
   "execution_count": 9,
   "metadata": {},
   "outputs": [],
   "source": [
    "# PyTorch supports labels starting from 0. That is [0, n]. We need to remap our labels to start from 0.\n",
    "\n",
    "class2idx = {\n",
    "    3:0,\n",
    "    4:1,\n",
    "    5:2,\n",
    "    6:3,\n",
    "    7:4,\n",
    "    8:5\n",
    "}\n",
    "\n",
    "idx2class = {v: k for k, v in class2idx.items()}\n",
    "\n",
    "df['quality'].replace(class2idx, inplace=True)"
   ]
  },
  {
   "cell_type": "markdown",
   "metadata": {},
   "source": [
    "In order to split our data into train, validation, and test sets, we need to separate out our inputs and outputs. \n",
    "\n",
    "\n",
    "Input X is all but the last column. Output y is the last column."
   ]
  },
  {
   "cell_type": "code",
   "execution_count": 10,
   "metadata": {},
   "outputs": [],
   "source": [
    "X = df.iloc[:, 0:-1]\n",
    "y = df.iloc[:, -1]"
   ]
  },
  {
   "cell_type": "markdown",
   "metadata": {},
   "source": [
    "## Train - Validation - Test"
   ]
  },
  {
   "cell_type": "markdown",
   "metadata": {},
   "source": [
    "To create the train-val-test split, we'll use train_test_split() from Sklearn. \n",
    "\n",
    "\n",
    "First we'll split our data into train+val and test sets. Then, we'll further split our train+val set to create our train and val sets. \n",
    "\n",
    "Because there's a class imbalance, we want to have equal distribution of all output classes in our train, validation, and test sets. \n",
    "\n",
    "To do that, we use the stratify option in function train_test_split()."
   ]
  },
  {
   "cell_type": "code",
   "execution_count": 11,
   "metadata": {},
   "outputs": [],
   "source": [
    "# Train - Test\n",
    "X_trainval, X_test, y_trainval, y_test = train_test_split(X, y, test_size=0.2, stratify=y, random_state=69)\n",
    "\n",
    "# Split train into train-val\n",
    "X_train, X_val, y_train, y_val = train_test_split(X_trainval, y_trainval, test_size=0.1, stratify=y_trainval, random_state=21)"
   ]
  },
  {
   "cell_type": "markdown",
   "metadata": {},
   "source": [
    "Neural networks need data that lies between the range of (0,1). There's a ton of material available online on why we need to do it. \n",
    "\n",
    "To scale our values, we'll use the `MinMaxScaler()` from Sklearn. The `MinMaxScaler` transforms features by scaling each feature to a given range which is (0,1) in our case.\n",
    "\n",
    "\n",
    "> x_scaled = (x-min(x)) / (max(x)–min(x))\n",
    "\n",
    "\n",
    "Notice that we use `.fit_transform()` on `X_train` while we use `.transform()` on `X_val` and `X_test` . \n",
    "\n",
    "We do this because we want to scale the validation and test set with the same parameters as that of the train set to avoid data leakage. `it_transform` calculates scaling values and applies them while `.transform` only applies the calculated values."
   ]
  },
  {
   "cell_type": "code",
   "execution_count": 12,
   "metadata": {},
   "outputs": [],
   "source": [
    "scaler = MinMaxScaler()\n",
    "X_train = scaler.fit_transform(X_train)\n",
    "X_val = scaler.transform(X_val)\n",
    "X_test = scaler.transform(X_test)"
   ]
  },
  {
   "cell_type": "code",
   "execution_count": 13,
   "metadata": {},
   "outputs": [],
   "source": [
    "X_train, y_train = np.array(X_train), np.array(y_train)\n",
    "X_val, y_val = np.array(X_val), np.array(y_val)\n",
    "X_test, y_test = np.array(X_test), np.array(y_test)"
   ]
  },
  {
   "cell_type": "markdown",
   "metadata": {},
   "source": [
    "Once we've split our data into train, validation, and test sets, let's make sure the distribution of classes is equal in all three sets.\n",
    "\n",
    "To do that, let's create a function called `get_class_distribution()`.   \n",
    "This function takes as input the obj `y` , ie. `y_train`, `y_val`, or `y_test`. Inside the function, we initialize a dictionary which contains the output classes as keys and their count as values. The counts are all initialized to 0. \n",
    "\n",
    "\n",
    "We then loop through our `y` object and update our dictionary."
   ]
  },
  {
   "cell_type": "code",
   "execution_count": 14,
   "metadata": {},
   "outputs": [],
   "source": [
    "def get_class_distribution(obj):\n",
    "    count_dict = {\n",
    "        \"rating_3\": 0,\n",
    "        \"rating_4\": 0,\n",
    "        \"rating_5\": 0,\n",
    "        \"rating_6\": 0,\n",
    "        \"rating_7\": 0,\n",
    "        \"rating_8\": 0,\n",
    "    }\n",
    "    \n",
    "    for i in obj:\n",
    "        if i == 0: \n",
    "            count_dict['rating_3'] += 1\n",
    "        elif i == 1: \n",
    "            count_dict['rating_4'] += 1\n",
    "        elif i == 2: \n",
    "            count_dict['rating_5'] += 1\n",
    "        elif i == 3: \n",
    "            count_dict['rating_6'] += 1\n",
    "        elif i == 4: \n",
    "            count_dict['rating_7'] += 1  \n",
    "        elif i == 5: \n",
    "            count_dict['rating_8'] += 1              \n",
    "        else:\n",
    "            print(\"Check classes.\")\n",
    "            \n",
    "    return count_dict "
   ]
  },
  {
   "cell_type": "markdown",
   "metadata": {},
   "source": [
    "Once we have the dictionary count, we use Seaborn library to plot the bar charts. \n",
    "\n",
    "The make the plot, we first convert our dictionary to a dataframe using `pd.DataFrame.from_dict([get_class_distribution(y_train)])`. \n",
    "\n",
    "Subsequently, we `.melt()` our convert our dataframe into the long format and finally use `sns.barplot()` to build the plots."
   ]
  },
  {
   "cell_type": "code",
   "execution_count": 15,
   "metadata": {},
   "outputs": [
    {
     "name": "stdout",
     "output_type": "stream",
     "text": [
      "Train: {'rating_3': 7, 'rating_4': 38, 'rating_5': 490, 'rating_6': 459, 'rating_7': 143, 'rating_8': 14}\n",
      "Test : {'rating_3': 2, 'rating_4': 11, 'rating_5': 136, 'rating_6': 128, 'rating_7': 40, 'rating_8': 3}\n",
      "Val  : {'rating_3': 1, 'rating_4': 4, 'rating_5': 55, 'rating_6': 51, 'rating_7': 16, 'rating_8': 1}\n"
     ]
    }
   ],
   "source": [
    "print(\"Train:\", get_class_distribution(y_train))\n",
    "print(\"Test :\", get_class_distribution(y_test))\n",
    "print(\"Val  :\", get_class_distribution(y_val))"
   ]
  },
  {
   "cell_type": "code",
   "execution_count": 16,
   "metadata": {},
   "outputs": [
    {
     "data": {
      "text/plain": [
       "Text(0.5, 1.0, 'Class Distribution in Test Set')"
      ]
     },
     "execution_count": 16,
     "metadata": {},
     "output_type": "execute_result"
    },
    {
     "data": {
      "image/png": "[encoded data removed]",
      "text/plain": [
       "<Figure size 1800x504 with 3 Axes>"
      ]
     },
     "metadata": {},
     "output_type": "display_data"
    }
   ],
   "source": [
    "fig, axes = plt.subplots(nrows=1, ncols=3, figsize=(25,7))\n",
    "sns.barplot(data = pd.DataFrame.from_dict([get_class_distribution(y_train)]).melt(), x = \"variable\", y=\"value\", hue=\"variable\",  ax=axes[0]).set_title('Class Distribution in Train Set')\n",
    "sns.barplot(data = pd.DataFrame.from_dict([get_class_distribution(y_val)]).melt(), x = \"variable\", y=\"value\", hue=\"variable\",  ax=axes[1]).set_title('Class Distribution in Val Set')\n",
    "sns.barplot(data = pd.DataFrame.from_dict([get_class_distribution(y_test)]).melt(), x = \"variable\", y=\"value\", hue=\"variable\",  ax=axes[2]).set_title('Class Distribution in Test Set')"
   ]
  },
  {
   "cell_type": "markdown",
   "metadata": {},
   "source": [
    "## Neural Net"
   ]
  },
  {
   "cell_type": "markdown",
   "metadata": {},
   "source": [
    "### Define Custom Dataset"
   ]
  },
  {
   "cell_type": "markdown",
   "metadata": {},
   "source": [
    "First up, let's define a custom dataset. This dataset will be used by the dataloader to pass our data into our model.   \n",
    "We initialize our dataset by passing X and y as inputs. Make sure X is a `float` while y is `long`."
   ]
  },
  {
   "cell_type": "code",
   "execution_count": 17,
   "metadata": {},
   "outputs": [],
   "source": [
    "class ClassifierDataset(Dataset):\n",
    "    \n",
    "    def __init__(self, X_data, y_data):\n",
    "        self.X_data = X_data\n",
    "        self.y_data = y_data\n",
    "        \n",
    "    def __getitem__(self, index):\n",
    "        return self.X_data[index], self.y_data[index]\n",
    "        \n",
    "    def __len__ (self):\n",
    "        return len(self.X_data)\n",
    "\n",
    "\n",
    "train_dataset = ClassifierDataset(torch.from_numpy(X_train).float(), torch.from_numpy(y_train).long())\n",
    "val_dataset = ClassifierDataset(torch.from_numpy(X_val).float(), torch.from_numpy(y_val).long())\n",
    "test_dataset = ClassifierDataset(torch.from_numpy(X_test).float(), torch.from_numpy(y_test).long())"
   ]
  },
  {
   "cell_type": "markdown",
   "metadata": {},
   "source": [
    "### Weighted Sampling"
   ]
  },
  {
   "cell_type": "markdown",
   "metadata": {},
   "source": [
    "Because there's a class imbalance, we use stratified split to create our train, validation, and test sets.  \n",
    "\n",
    "While it helps, it still does not ensure that each mini-batch of our model see's all our classes. We need to oversample the classes with less number of values. To do that, we use the `WeightedRandomSampler`.\n",
    "\n",
    "\n",
    "First, we obtain a list called target_list which contains all our outputs. This list is then converted to a tensor and shuffled."
   ]
  },
  {
   "cell_type": "code",
   "execution_count": 57,
   "metadata": {},
   "outputs": [],
   "source": [
    "target_list = []\n",
    "\n",
    "for _, t in train_dataset:\n",
    "    target_list.append(t)\n",
    "    \n",
    "target_list = torch.tensor(target_list)\n",
    "target_list = target_list[torch.randperm(len(target_list))]"
   ]
  },
  {
   "cell_type": "markdown",
   "metadata": {},
   "source": [
    "Then, we obtain the count of all classes in our training set. We use the reciprocal of each count to obtain it's weight.   \n",
    "Now that we've calculated the weights for each class, we can proceed."
   ]
  },
  {
   "cell_type": "code",
   "execution_count": 36,
   "metadata": {},
   "outputs": [
    {
     "data": {
      "text/plain": [
       "tensor([0.1429, 0.0263, 0.0020, 0.0022, 0.0070, 0.0714])"
      ]
     },
     "execution_count": 36,
     "metadata": {},
     "output_type": "execute_result"
    }
   ],
   "source": [
    "class_count = [i for i in get_class_distribution(y_train).values()]\n",
    "class_weights = 1./torch.tensor(class_count, dtype=torch.float) \n",
    "class_weights"
   ]
  },
  {
   "cell_type": "markdown",
   "metadata": {},
   "source": [
    "`WeightedRandomSampler` expects a weight for each sample. We do that using the following command."
   ]
  },
  {
   "cell_type": "code",
   "execution_count": 41,
   "metadata": {},
   "outputs": [],
   "source": [
    "class_weights_all = class_weights[target_list]"
   ]
  },
  {
   "cell_type": "markdown",
   "metadata": {},
   "source": [
    "Finally, let's initialize our `WeightedRandomSampler`. We'll call this in our dataloader below."
   ]
  },
  {
   "cell_type": "code",
   "execution_count": 21,
   "metadata": {},
   "outputs": [],
   "source": [
    "weighted_sampler = WeightedRandomSampler(\n",
    "    weights=class_weights_all,\n",
    "    num_samples=len(class_weights_all),\n",
    "    replacement=True\n",
    ")"
   ]
  },
  {
   "cell_type": "markdown",
   "metadata": {},
   "source": [
    "### Model Params"
   ]
  },
  {
   "cell_type": "markdown",
   "metadata": {},
   "source": [
    "Before we proceed any further, let's define a few parameters that we'll use down the line."
   ]
  },
  {
   "cell_type": "code",
   "execution_count": 22,
   "metadata": {},
   "outputs": [],
   "source": [
    "EPOCHS = 300\n",
    "BATCH_SIZE = 16\n",
    "LEARNING_RATE = 0.0007\n",
    "\n",
    "NUM_FEATURES = len(X.columns)\n",
    "NUM_CLASSES = 6"
   ]
  },
  {
   "cell_type": "markdown",
   "metadata": {},
   "source": [
    "### Define Dataloader"
   ]
  },
  {
   "cell_type": "markdown",
   "metadata": {},
   "source": [
    "Let's now initialize our dataloaders. \n",
    "\n",
    "For train_dataloader we'll use `batch_size = 64` and pass our sampler to it. Note that we're not using `shuffle=True` in our `train_dataloader` because we're already using a sampler. These two are mutually exclusive.\n",
    "\n",
    "For `test_dataloader` and `val_dataloader` we'll use `batch_size = 1`."
   ]
  },
  {
   "cell_type": "code",
   "execution_count": 23,
   "metadata": {},
   "outputs": [],
   "source": [
    "train_loader = DataLoader(dataset=train_dataset, batch_size=BATCH_SIZE, sampler=weighted_sampler)\n",
    "val_loader = DataLoader(dataset=val_dataset, batch_size=1)\n",
    "test_loader = DataLoader(dataset=test_dataset, batch_size=1)"
   ]
  },
  {
   "cell_type": "markdown",
   "metadata": {},
   "source": [
    "## Define Neural Net Architecture"
   ]
  },
  {
   "cell_type": "markdown",
   "metadata": {},
   "source": [
    "Let's define a simple  3-layer feedforward network with dropout and batchnorm."
   ]
  },
  {
   "cell_type": "code",
   "execution_count": 24,
   "metadata": {},
   "outputs": [],
   "source": [
    "class MulticlassClassification(nn.Module):\n",
    "    def __init__(self, num_feature, num_class):\n",
    "        super(MulticlassClassification, self).__init__()\n",
    "        \n",
    "        self.layer_1 = nn.Linear(num_feature, 512)\n",
    "        self.layer_2 = nn.Linear(512, 128)\n",
    "        self.layer_3 = nn.Linear(128, 64)\n",
    "        self.layer_out = nn.Linear(64, num_class) \n",
    "        \n",
    "        self.relu = nn.ReLU()\n",
    "        self.dropout = nn.Dropout(p=0.2)\n",
    "        self.batchnorm1 = nn.BatchNorm1d(512)\n",
    "        self.batchnorm2 = nn.BatchNorm1d(128)\n",
    "        self.batchnorm3 = nn.BatchNorm1d(64)\n",
    "        \n",
    "    def forward(self, x):\n",
    "        x = self.layer_1(x)\n",
    "        x = self.batchnorm1(x)\n",
    "        x = self.relu(x)\n",
    "        \n",
    "        x = self.layer_2(x)\n",
    "        x = self.batchnorm2(x)\n",
    "        x = self.relu(x)\n",
    "        x = self.dropout(x)\n",
    "        \n",
    "        x = self.layer_3(x)\n",
    "        x = self.batchnorm3(x)\n",
    "        x = self.relu(x)\n",
    "        x = self.dropout(x)\n",
    "        \n",
    "        x = self.layer_out(x)\n",
    "        \n",
    "        return x"
   ]
  },
  {
   "cell_type": "code",
   "execution_count": 25,
   "metadata": {},
   "outputs": [
    {
     "name": "stdout",
     "output_type": "stream",
     "text": [
      "cuda:0\n"
     ]
    }
   ],
   "source": [
    "device = torch.device(\"cuda:0\" if torch.cuda.is_available() else \"cpu\")\n",
    "print(device)"
   ]
  },
  {
   "cell_type": "markdown",
   "metadata": {},
   "source": [
    "Initialize the model, optimizer, and loss function. Transfer the model to GPU. We're using the `nn.CrossEntropyLoss` because this is multiclass classification problem.   \n",
    "\n",
    "We don't have to manually apply a `log_softmax` layer after our final layer because `nn.CrossEntropyLoss` does that for us. \n",
    "\n",
    "However, we need to apply `log_softmax` for our validation and testing."
   ]
  },
  {
   "cell_type": "code",
   "execution_count": 26,
   "metadata": {},
   "outputs": [
    {
     "name": "stdout",
     "output_type": "stream",
     "text": [
      "MulticlassClassification(\n",
      "  (layer_1): Linear(in_features=11, out_features=512, bias=True)\n",
      "  (layer_2): Linear(in_features=512, out_features=128, bias=True)\n",
      "  (layer_3): Linear(in_features=128, out_features=64, bias=True)\n",
      "  (layer_out): Linear(in_features=64, out_features=6, bias=True)\n",
      "  (relu): ReLU()\n",
      "  (dropout): Dropout(p=0.2, inplace=False)\n",
      "  (batchnorm1): BatchNorm1d(512, eps=1e-05, momentum=0.1, affine=True, track_running_stats=True)\n",
      "  (batchnorm2): BatchNorm1d(128, eps=1e-05, momentum=0.1, affine=True, track_running_stats=True)\n",
      "  (batchnorm3): BatchNorm1d(64, eps=1e-05, momentum=0.1, affine=True, track_running_stats=True)\n",
      ")\n"
     ]
    }
   ],
   "source": [
    "model = MulticlassClassification(num_feature = NUM_FEATURES, num_class=NUM_CLASSES)\n",
    "model.to(device)\n",
    "\n",
    "print(model)\n",
    "\n",
    "criterion = nn.CrossEntropyLoss(weight=class_weights.to(device))\n",
    "optimizer = optim.Adam(model.parameters(), lr=LEARNING_RATE)"
   ]
  },
  {
   "cell_type": "markdown",
   "metadata": {},
   "source": [
    "## Train "
   ]
  },
  {
   "cell_type": "markdown",
   "metadata": {},
   "source": [
    "Before we start our training, let's define a function to calculate accuracy per epoch. \n",
    "\n",
    "This function takes y_pred and y_test as input arguments. We then apply softmax to  y_pred and extract the class which has a higher probability.\n",
    "\n",
    "After that, we compare the the predicted classes and the actual classes to calculate the accuracy."
   ]
  },
  {
   "cell_type": "code",
   "execution_count": 27,
   "metadata": {},
   "outputs": [],
   "source": [
    "def multi_acc(y_pred, y_test):\n",
    "    y_pred_softmax = torch.log_softmax(y_pred, dim = 1)\n",
    "    _, y_pred_tags = torch.max(y_pred_softmax, dim = 1)    \n",
    "    \n",
    "    correct_pred = (y_pred_tags == y_test).float()\n",
    "    acc = correct_pred.sum() / len(correct_pred)\n",
    "    \n",
    "    acc = torch.round(acc) * 100\n",
    "    \n",
    "    return acc"
   ]
  },
  {
   "cell_type": "markdown",
   "metadata": {},
   "source": [
    "We'll also define 2 dictionaries which will store the accuracy/epoch and loss/epoch for both train and validation sets."
   ]
  },
  {
   "cell_type": "code",
   "execution_count": 28,
   "metadata": {},
   "outputs": [],
   "source": [
    "accuracy_stats = {\n",
    "    'train': [],\n",
    "    \"val\": []\n",
    "}\n",
    "\n",
    "loss_stats = {\n",
    "    'train': [],\n",
    "    \"val\": []\n",
    "}"
   ]
  },
  {
   "cell_type": "markdown",
   "metadata": {},
   "source": [
    "Let's TRAAAAAIN our model!  \n",
    "\n",
    "\n",
    "\n",
    "\n",
    "\n",
    "You can see we've put a model.train() at the before the loop. `model.train()` tells PyTorch that you're in training mode.\n",
    "Well, why do we need to do that? If you're using layers such as `Dropout` or `BatchNorm` which behave differently during training and evaluation (for eample; not use dropout during evalualtion), you need to tell PyTorch to act accordingly. While the default mode in PyTorch is the train, so, you don't explicitly have to write that. But it's good practice.  \n",
    "\n",
    "\n",
    "Similarly, we'll call `model.eval()` when we test our model. We'll see that below.\n",
    "Back to training; we start a for-loop. At the top of this for-loop, we initialize our loss and accuracy per epoch to 0. After every epoch, we'll print out the loss/accuracy and reset it back to 0.\n",
    "\n",
    "\n",
    "Then we have another for-loop. This for-loop is used to get our data in batches from the `train_loader`.\n",
    "\n",
    "\n",
    "We do `optimizer.zero_grad()` before we make any predictions. Since the `backward()` function accumulates gradients, we need to set it to 0 manually per mini-batch.\n",
    "From our defined model, we then obtain a prediction, get the loss(and accuracy) for that mini-batch, perform backpropagation using `loss.backward()` and `optimizer.step()`. \n",
    "Finally, we add all the mini-batch losses (and accuracies) to obtain the average loss (and accuracy) for that epoch. We add up all the losses/accuracies for each minibatch and finally divide it by the number of minibatches ie. length of trainloader to obtain the average loss/accuracy per epoch.\n",
    "\n",
    "\n",
    "The procedure we follow for training is the exact same for validation except for the fact that we wrap it up in `torch.no_grad` and not perform any backpropagation. `torch.no_grad()` tells PyTorch that we do not want to perform back-propagation, which reduces memory usage and speeds up computation."
   ]
  },
  {
   "cell_type": "code",
   "execution_count": 29,
   "metadata": {},
   "outputs": [
    {
     "name": "stdout",
     "output_type": "stream",
     "text": [
      "Begin training.\n"
     ]
    },
    {
     "data": {
      "application/vnd.jupyter.widget-view+json": {
       "model_id": "5dd728310adc4fc5ade31f7784b8ccd9",
       "version_major": 2,
       "version_minor": 0
      },
      "text/plain": [
       "HBox(children=(FloatProgress(value=0.0, max=300.0), HTML(value='')))"
      ]
     },
     "metadata": {},
     "output_type": "display_data"
    },
    {
     "name": "stdout",
     "output_type": "stream",
     "text": [
      "Epoch 001: | Train Loss: 1.38551 | Val Loss: 1.42033 | Train Acc: 38.889| Val Acc: 43.750\n",
      "Epoch 002: | Train Loss: 1.19558 | Val Loss: 1.36613 | Train Acc: 59.722| Val Acc: 45.312\n",
      "Epoch 003: | Train Loss: 1.12264 | Val Loss: 1.44156 | Train Acc: 79.167| Val Acc: 35.938\n",
      "Epoch 004: | Train Loss: 0.99783 | Val Loss: 1.37201 | Train Acc: 79.167| Val Acc: 39.844\n",
      "Epoch 005: | Train Loss: 0.89507 | Val Loss: 1.30807 | Train Acc: 79.167| Val Acc: 50.000\n",
      "Epoch 006: | Train Loss: 0.97003 | Val Loss: 1.33020 | Train Acc: 79.167| Val Acc: 41.406\n",
      "Epoch 007: | Train Loss: 0.96070 | Val Loss: 1.26134 | Train Acc: 83.333| Val Acc: 46.094\n",
      "Epoch 008: | Train Loss: 1.00154 | Val Loss: 1.33656 | Train Acc: 79.167| Val Acc: 41.406\n",
      "Epoch 009: | Train Loss: 0.93086 | Val Loss: 1.35351 | Train Acc: 72.222| Val Acc: 41.406\n",
      "Epoch 010: | Train Loss: 0.77491 | Val Loss: 1.26859 | Train Acc: 80.556| Val Acc: 46.094\n",
      "Epoch 011: | Train Loss: 0.80258 | Val Loss: 1.27552 | Train Acc: 80.556| Val Acc: 46.094\n",
      "Epoch 012: | Train Loss: 0.79364 | Val Loss: 1.40048 | Train Acc: 87.500| Val Acc: 42.188\n",
      "Epoch 013: | Train Loss: 0.81912 | Val Loss: 1.30812 | Train Acc: 88.889| Val Acc: 50.000\n",
      "Epoch 014: | Train Loss: 0.77939 | Val Loss: 1.28714 | Train Acc: 88.889| Val Acc: 43.750\n",
      "Epoch 015: | Train Loss: 0.75552 | Val Loss: 1.27058 | Train Acc: 88.889| Val Acc: 49.219\n",
      "Epoch 016: | Train Loss: 0.69415 | Val Loss: 1.43666 | Train Acc: 83.333| Val Acc: 41.406\n",
      "Epoch 017: | Train Loss: 0.76418 | Val Loss: 1.33060 | Train Acc: 90.278| Val Acc: 42.969\n",
      "Epoch 018: | Train Loss: 0.82089 | Val Loss: 1.32069 | Train Acc: 79.167| Val Acc: 41.406\n",
      "Epoch 019: | Train Loss: 0.72997 | Val Loss: 1.21955 | Train Acc: 91.667| Val Acc: 50.781\n",
      "Epoch 020: | Train Loss: 0.71871 | Val Loss: 1.16205 | Train Acc: 93.056| Val Acc: 47.656\n",
      "Epoch 021: | Train Loss: 0.68703 | Val Loss: 1.24258 | Train Acc: 87.500| Val Acc: 49.219\n",
      "Epoch 022: | Train Loss: 0.68764 | Val Loss: 1.34614 | Train Acc: 91.667| Val Acc: 42.188\n",
      "Epoch 023: | Train Loss: 0.68557 | Val Loss: 1.27832 | Train Acc: 93.056| Val Acc: 46.094\n",
      "Epoch 024: | Train Loss: 0.69983 | Val Loss: 1.26615 | Train Acc: 93.056| Val Acc: 46.094\n",
      "Epoch 025: | Train Loss: 0.64823 | Val Loss: 1.22038 | Train Acc: 94.444| Val Acc: 46.875\n",
      "Epoch 026: | Train Loss: 0.61785 | Val Loss: 1.24037 | Train Acc: 94.444| Val Acc: 52.344\n",
      "Epoch 027: | Train Loss: 0.63722 | Val Loss: 1.19605 | Train Acc: 97.222| Val Acc: 47.656\n",
      "Epoch 028: | Train Loss: 0.72536 | Val Loss: 1.16656 | Train Acc: 91.667| Val Acc: 49.219\n",
      "Epoch 029: | Train Loss: 0.61172 | Val Loss: 1.18392 | Train Acc: 93.056| Val Acc: 53.125\n",
      "Epoch 030: | Train Loss: 0.64252 | Val Loss: 1.18907 | Train Acc: 94.444| Val Acc: 46.875\n",
      "Epoch 031: | Train Loss: 0.68118 | Val Loss: 1.22416 | Train Acc: 97.222| Val Acc: 47.656\n",
      "Epoch 032: | Train Loss: 0.57318 | Val Loss: 1.10793 | Train Acc: 95.833| Val Acc: 50.000\n",
      "Epoch 033: | Train Loss: 0.63747 | Val Loss: 1.22100 | Train Acc: 90.278| Val Acc: 44.531\n",
      "Epoch 034: | Train Loss: 0.54549 | Val Loss: 1.22602 | Train Acc: 95.833| Val Acc: 45.312\n",
      "Epoch 035: | Train Loss: 0.56886 | Val Loss: 1.21545 | Train Acc: 95.833| Val Acc: 46.875\n",
      "Epoch 036: | Train Loss: 0.54057 | Val Loss: 1.14326 | Train Acc: 93.056| Val Acc: 46.094\n",
      "Epoch 037: | Train Loss: 0.63195 | Val Loss: 1.19181 | Train Acc: 97.222| Val Acc: 50.000\n",
      "Epoch 038: | Train Loss: 0.60743 | Val Loss: 1.22191 | Train Acc: 98.611| Val Acc: 51.562\n",
      "Epoch 039: | Train Loss: 0.58350 | Val Loss: 1.14344 | Train Acc: 95.833| Val Acc: 49.219\n",
      "Epoch 040: | Train Loss: 0.62024 | Val Loss: 1.15275 | Train Acc: 95.833| Val Acc: 50.781\n",
      "Epoch 041: | Train Loss: 0.59640 | Val Loss: 1.16769 | Train Acc: 97.222| Val Acc: 47.656\n",
      "Epoch 042: | Train Loss: 0.60676 | Val Loss: 1.34200 | Train Acc: 100.000| Val Acc: 42.188\n",
      "Epoch 043: | Train Loss: 0.61248 | Val Loss: 1.20353 | Train Acc: 91.667| Val Acc: 45.312\n",
      "Epoch 044: | Train Loss: 0.60792 | Val Loss: 1.18938 | Train Acc: 94.444| Val Acc: 46.094\n",
      "Epoch 045: | Train Loss: 0.55169 | Val Loss: 1.12875 | Train Acc: 98.611| Val Acc: 50.000\n",
      "Epoch 046: | Train Loss: 0.56611 | Val Loss: 1.20159 | Train Acc: 94.444| Val Acc: 47.656\n",
      "Epoch 047: | Train Loss: 0.55821 | Val Loss: 1.11528 | Train Acc: 100.000| Val Acc: 47.656\n",
      "Epoch 048: | Train Loss: 0.57410 | Val Loss: 1.16787 | Train Acc: 95.833| Val Acc: 45.312\n",
      "Epoch 049: | Train Loss: 0.52017 | Val Loss: 1.22510 | Train Acc: 98.611| Val Acc: 43.750\n",
      "Epoch 050: | Train Loss: 0.51325 | Val Loss: 1.21496 | Train Acc: 94.444| Val Acc: 49.219\n",
      "Epoch 051: | Train Loss: 0.48501 | Val Loss: 1.20023 | Train Acc: 97.222| Val Acc: 49.219\n",
      "Epoch 052: | Train Loss: 0.57682 | Val Loss: 1.14132 | Train Acc: 97.222| Val Acc: 47.656\n",
      "Epoch 053: | Train Loss: 0.61659 | Val Loss: 1.18758 | Train Acc: 97.222| Val Acc: 50.000\n",
      "Epoch 054: | Train Loss: 0.56820 | Val Loss: 1.32181 | Train Acc: 95.833| Val Acc: 42.969\n",
      "Epoch 055: | Train Loss: 0.56476 | Val Loss: 1.26376 | Train Acc: 95.833| Val Acc: 48.438\n",
      "Epoch 056: | Train Loss: 0.55201 | Val Loss: 1.25407 | Train Acc: 98.611| Val Acc: 42.969\n",
      "Epoch 057: | Train Loss: 0.51829 | Val Loss: 1.20994 | Train Acc: 95.833| Val Acc: 48.438\n",
      "Epoch 058: | Train Loss: 0.49752 | Val Loss: 1.18611 | Train Acc: 98.611| Val Acc: 53.906\n",
      "Epoch 059: | Train Loss: 0.57143 | Val Loss: 1.21301 | Train Acc: 98.611| Val Acc: 52.344\n",
      "Epoch 060: | Train Loss: 0.52384 | Val Loss: 1.23285 | Train Acc: 100.000| Val Acc: 47.656\n",
      "Epoch 061: | Train Loss: 0.51055 | Val Loss: 1.21295 | Train Acc: 98.611| Val Acc: 47.656\n",
      "Epoch 062: | Train Loss: 0.49741 | Val Loss: 1.24195 | Train Acc: 95.833| Val Acc: 49.219\n",
      "Epoch 063: | Train Loss: 0.49139 | Val Loss: 1.26525 | Train Acc: 95.833| Val Acc: 48.438\n",
      "Epoch 064: | Train Loss: 0.45474 | Val Loss: 1.30272 | Train Acc: 95.833| Val Acc: 52.344\n",
      "Epoch 065: | Train Loss: 0.49211 | Val Loss: 1.24023 | Train Acc: 97.222| Val Acc: 46.875\n",
      "Epoch 066: | Train Loss: 0.49620 | Val Loss: 1.20098 | Train Acc: 95.833| Val Acc: 51.562\n",
      "Epoch 067: | Train Loss: 0.53764 | Val Loss: 1.28247 | Train Acc: 95.833| Val Acc: 48.438\n",
      "Epoch 068: | Train Loss: 0.50273 | Val Loss: 1.28195 | Train Acc: 98.611| Val Acc: 46.875\n",
      "Epoch 069: | Train Loss: 0.48120 | Val Loss: 1.30757 | Train Acc: 97.222| Val Acc: 52.344\n",
      "Epoch 070: | Train Loss: 0.50662 | Val Loss: 1.24554 | Train Acc: 100.000| Val Acc: 48.438\n",
      "Epoch 071: | Train Loss: 0.48248 | Val Loss: 1.26901 | Train Acc: 98.611| Val Acc: 46.094\n",
      "Epoch 072: | Train Loss: 0.47007 | Val Loss: 1.18688 | Train Acc: 100.000| Val Acc: 51.562\n",
      "Epoch 073: | Train Loss: 0.45864 | Val Loss: 1.19859 | Train Acc: 100.000| Val Acc: 52.344\n",
      "Epoch 074: | Train Loss: 0.55337 | Val Loss: 1.17053 | Train Acc: 95.833| Val Acc: 50.000\n",
      "Epoch 075: | Train Loss: 0.44282 | Val Loss: 1.18915 | Train Acc: 100.000| Val Acc: 51.562\n",
      "Epoch 076: | Train Loss: 0.58838 | Val Loss: 1.31908 | Train Acc: 94.444| Val Acc: 54.688\n",
      "Epoch 077: | Train Loss: 0.53987 | Val Loss: 1.24666 | Train Acc: 97.222| Val Acc: 57.031\n",
      "Epoch 078: | Train Loss: 0.50177 | Val Loss: 1.28567 | Train Acc: 98.611| Val Acc: 50.000\n",
      "Epoch 079: | Train Loss: 0.40982 | Val Loss: 1.27997 | Train Acc: 95.833| Val Acc: 50.000\n",
      "Epoch 080: | Train Loss: 0.39490 | Val Loss: 1.36193 | Train Acc: 98.611| Val Acc: 45.312\n",
      "Epoch 081: | Train Loss: 0.44595 | Val Loss: 1.31675 | Train Acc: 98.611| Val Acc: 46.094\n",
      "Epoch 082: | Train Loss: 0.42637 | Val Loss: 1.31955 | Train Acc: 98.611| Val Acc: 53.125\n",
      "Epoch 083: | Train Loss: 0.44076 | Val Loss: 1.24245 | Train Acc: 98.611| Val Acc: 52.344\n",
      "Epoch 084: | Train Loss: 0.46337 | Val Loss: 1.24537 | Train Acc: 100.000| Val Acc: 50.781\n",
      "Epoch 085: | Train Loss: 0.47857 | Val Loss: 1.29760 | Train Acc: 98.611| Val Acc: 50.000\n",
      "Epoch 086: | Train Loss: 0.59495 | Val Loss: 1.28333 | Train Acc: 100.000| Val Acc: 49.219\n",
      "Epoch 087: | Train Loss: 0.48738 | Val Loss: 1.17996 | Train Acc: 98.611| Val Acc: 50.781\n",
      "Epoch 088: | Train Loss: 0.47140 | Val Loss: 1.32387 | Train Acc: 98.611| Val Acc: 51.562\n",
      "Epoch 089: | Train Loss: 0.45338 | Val Loss: 1.30184 | Train Acc: 98.611| Val Acc: 52.344\n",
      "Epoch 090: | Train Loss: 0.51204 | Val Loss: 1.46345 | Train Acc: 97.222| Val Acc: 48.438\n",
      "Epoch 091: | Train Loss: 0.45052 | Val Loss: 1.30388 | Train Acc: 97.222| Val Acc: 53.906\n",
      "Epoch 092: | Train Loss: 0.51869 | Val Loss: 1.24527 | Train Acc: 97.222| Val Acc: 56.250\n",
      "Epoch 093: | Train Loss: 0.51961 | Val Loss: 1.23443 | Train Acc: 97.222| Val Acc: 49.219\n",
      "Epoch 094: | Train Loss: 0.41374 | Val Loss: 1.29456 | Train Acc: 95.833| Val Acc: 50.781\n",
      "Epoch 095: | Train Loss: 0.49304 | Val Loss: 1.28082 | Train Acc: 98.611| Val Acc: 50.781\n",
      "Epoch 096: | Train Loss: 0.45598 | Val Loss: 1.25796 | Train Acc: 100.000| Val Acc: 53.906\n",
      "Epoch 097: | Train Loss: 0.48035 | Val Loss: 1.22565 | Train Acc: 100.000| Val Acc: 53.125\n",
      "Epoch 098: | Train Loss: 0.39248 | Val Loss: 1.33303 | Train Acc: 100.000| Val Acc: 50.000\n",
      "Epoch 099: | Train Loss: 0.44144 | Val Loss: 1.27406 | Train Acc: 100.000| Val Acc: 56.250\n",
      "Epoch 100: | Train Loss: 0.42033 | Val Loss: 1.27566 | Train Acc: 97.222| Val Acc: 50.781\n",
      "Epoch 101: | Train Loss: 0.45811 | Val Loss: 1.21035 | Train Acc: 97.222| Val Acc: 55.469\n",
      "Epoch 102: | Train Loss: 0.43373 | Val Loss: 1.24748 | Train Acc: 97.222| Val Acc: 54.688\n",
      "Epoch 103: | Train Loss: 0.43883 | Val Loss: 1.38386 | Train Acc: 100.000| Val Acc: 50.781\n",
      "Epoch 104: | Train Loss: 0.37606 | Val Loss: 1.24096 | Train Acc: 97.222| Val Acc: 56.250\n",
      "Epoch 105: | Train Loss: 0.40595 | Val Loss: 1.32432 | Train Acc: 100.000| Val Acc: 50.781\n",
      "Epoch 106: | Train Loss: 0.45461 | Val Loss: 1.31109 | Train Acc: 100.000| Val Acc: 50.781\n",
      "Epoch 107: | Train Loss: 0.44090 | Val Loss: 1.25750 | Train Acc: 98.611| Val Acc: 50.000\n",
      "Epoch 108: | Train Loss: 0.42404 | Val Loss: 1.32154 | Train Acc: 100.000| Val Acc: 51.562\n",
      "Epoch 109: | Train Loss: 0.44832 | Val Loss: 1.25898 | Train Acc: 98.611| Val Acc: 53.906\n",
      "Epoch 110: | Train Loss: 0.43610 | Val Loss: 1.27511 | Train Acc: 97.222| Val Acc: 53.906\n",
      "Epoch 111: | Train Loss: 0.45680 | Val Loss: 1.30474 | Train Acc: 98.611| Val Acc: 48.438\n",
      "Epoch 112: | Train Loss: 0.41611 | Val Loss: 1.29693 | Train Acc: 100.000| Val Acc: 51.562\n",
      "Epoch 113: | Train Loss: 0.54263 | Val Loss: 1.22076 | Train Acc: 100.000| Val Acc: 50.781\n",
      "Epoch 114: | Train Loss: 0.49183 | Val Loss: 1.32288 | Train Acc: 98.611| Val Acc: 50.000\n",
      "Epoch 115: | Train Loss: 0.42710 | Val Loss: 1.18070 | Train Acc: 100.000| Val Acc: 51.562\n",
      "Epoch 116: | Train Loss: 0.43768 | Val Loss: 1.16493 | Train Acc: 100.000| Val Acc: 56.250\n",
      "Epoch 117: | Train Loss: 0.40728 | Val Loss: 1.21613 | Train Acc: 100.000| Val Acc: 53.906\n",
      "Epoch 118: | Train Loss: 0.43033 | Val Loss: 1.26233 | Train Acc: 100.000| Val Acc: 55.469\n",
      "Epoch 119: | Train Loss: 0.41138 | Val Loss: 1.18768 | Train Acc: 100.000| Val Acc: 57.812\n",
      "Epoch 120: | Train Loss: 0.42804 | Val Loss: 1.28106 | Train Acc: 100.000| Val Acc: 56.250\n",
      "Epoch 121: | Train Loss: 0.32013 | Val Loss: 1.23536 | Train Acc: 100.000| Val Acc: 51.562\n",
      "Epoch 122: | Train Loss: 0.43599 | Val Loss: 1.23472 | Train Acc: 100.000| Val Acc: 54.688\n",
      "Epoch 123: | Train Loss: 0.38666 | Val Loss: 1.22046 | Train Acc: 98.611| Val Acc: 55.469\n",
      "Epoch 124: | Train Loss: 0.40282 | Val Loss: 1.20233 | Train Acc: 98.611| Val Acc: 50.781\n",
      "Epoch 125: | Train Loss: 0.38731 | Val Loss: 1.32879 | Train Acc: 100.000| Val Acc: 49.219\n",
      "Epoch 126: | Train Loss: 0.42030 | Val Loss: 1.22560 | Train Acc: 97.222| Val Acc: 53.125\n",
      "Epoch 127: | Train Loss: 0.44627 | Val Loss: 1.24732 | Train Acc: 98.611| Val Acc: 53.906\n",
      "Epoch 128: | Train Loss: 0.41934 | Val Loss: 1.23517 | Train Acc: 100.000| Val Acc: 55.469\n",
      "Epoch 129: | Train Loss: 0.50238 | Val Loss: 1.32008 | Train Acc: 95.833| Val Acc: 55.469\n",
      "Epoch 130: | Train Loss: 0.39499 | Val Loss: 1.35453 | Train Acc: 100.000| Val Acc: 56.250\n",
      "Epoch 131: | Train Loss: 0.42709 | Val Loss: 1.24424 | Train Acc: 98.611| Val Acc: 55.469\n",
      "Epoch 132: | Train Loss: 0.33745 | Val Loss: 1.28091 | Train Acc: 100.000| Val Acc: 57.031\n",
      "Epoch 133: | Train Loss: 0.37766 | Val Loss: 1.30614 | Train Acc: 100.000| Val Acc: 57.031\n",
      "Epoch 134: | Train Loss: 0.35157 | Val Loss: 1.30753 | Train Acc: 98.611| Val Acc: 53.125\n",
      "Epoch 135: | Train Loss: 0.41336 | Val Loss: 1.26257 | Train Acc: 94.444| Val Acc: 57.031\n",
      "Epoch 136: | Train Loss: 0.40279 | Val Loss: 1.42426 | Train Acc: 100.000| Val Acc: 51.562\n",
      "Epoch 137: | Train Loss: 0.39686 | Val Loss: 1.33831 | Train Acc: 100.000| Val Acc: 51.562\n",
      "Epoch 138: | Train Loss: 0.38740 | Val Loss: 1.26054 | Train Acc: 100.000| Val Acc: 51.562\n",
      "Epoch 139: | Train Loss: 0.35727 | Val Loss: 1.25399 | Train Acc: 98.611| Val Acc: 51.562\n",
      "Epoch 140: | Train Loss: 0.45629 | Val Loss: 1.41133 | Train Acc: 98.611| Val Acc: 45.312\n",
      "Epoch 141: | Train Loss: 0.37690 | Val Loss: 1.31168 | Train Acc: 98.611| Val Acc: 53.906\n",
      "Epoch 142: | Train Loss: 0.48252 | Val Loss: 1.29764 | Train Acc: 97.222| Val Acc: 52.344\n",
      "Epoch 143: | Train Loss: 0.36356 | Val Loss: 1.35278 | Train Acc: 100.000| Val Acc: 51.562\n",
      "Epoch 144: | Train Loss: 0.42300 | Val Loss: 1.20043 | Train Acc: 97.222| Val Acc: 57.031\n",
      "Epoch 145: | Train Loss: 0.36540 | Val Loss: 1.26867 | Train Acc: 98.611| Val Acc: 55.469\n",
      "Epoch 146: | Train Loss: 0.40841 | Val Loss: 1.29954 | Train Acc: 98.611| Val Acc: 55.469\n",
      "Epoch 147: | Train Loss: 0.38221 | Val Loss: 1.24506 | Train Acc: 100.000| Val Acc: 57.812\n",
      "Epoch 148: | Train Loss: 0.36787 | Val Loss: 1.30701 | Train Acc: 100.000| Val Acc: 54.688\n",
      "Epoch 149: | Train Loss: 0.40315 | Val Loss: 1.31736 | Train Acc: 98.611| Val Acc: 52.344\n",
      "Epoch 150: | Train Loss: 0.38967 | Val Loss: 1.29490 | Train Acc: 100.000| Val Acc: 53.125\n",
      "Epoch 151: | Train Loss: 0.35190 | Val Loss: 1.28786 | Train Acc: 100.000| Val Acc: 51.562\n",
      "Epoch 152: | Train Loss: 0.39181 | Val Loss: 1.33794 | Train Acc: 100.000| Val Acc: 53.906\n",
      "Epoch 153: | Train Loss: 0.38807 | Val Loss: 1.27763 | Train Acc: 100.000| Val Acc: 53.906\n",
      "Epoch 154: | Train Loss: 0.34116 | Val Loss: 1.27884 | Train Acc: 100.000| Val Acc: 51.562\n",
      "Epoch 155: | Train Loss: 0.32588 | Val Loss: 1.33521 | Train Acc: 100.000| Val Acc: 53.906\n",
      "Epoch 156: | Train Loss: 0.34873 | Val Loss: 1.30043 | Train Acc: 98.611| Val Acc: 55.469\n",
      "Epoch 157: | Train Loss: 0.38210 | Val Loss: 1.27352 | Train Acc: 100.000| Val Acc: 57.031\n",
      "Epoch 158: | Train Loss: 0.34769 | Val Loss: 1.33880 | Train Acc: 100.000| Val Acc: 50.000\n",
      "Epoch 159: | Train Loss: 0.35129 | Val Loss: 1.26965 | Train Acc: 100.000| Val Acc: 54.688\n",
      "Epoch 160: | Train Loss: 0.39438 | Val Loss: 1.37218 | Train Acc: 100.000| Val Acc: 48.438\n",
      "Epoch 161: | Train Loss: 0.37129 | Val Loss: 1.41557 | Train Acc: 98.611| Val Acc: 50.781\n",
      "Epoch 162: | Train Loss: 0.31713 | Val Loss: 1.44224 | Train Acc: 100.000| Val Acc: 53.125\n",
      "Epoch 163: | Train Loss: 0.41124 | Val Loss: 1.39928 | Train Acc: 98.611| Val Acc: 48.438\n",
      "Epoch 164: | Train Loss: 0.37245 | Val Loss: 1.34563 | Train Acc: 100.000| Val Acc: 50.781\n",
      "Epoch 165: | Train Loss: 0.38187 | Val Loss: 1.41957 | Train Acc: 100.000| Val Acc: 48.438\n",
      "Epoch 166: | Train Loss: 0.37327 | Val Loss: 1.37444 | Train Acc: 97.222| Val Acc: 50.000\n",
      "Epoch 167: | Train Loss: 0.38193 | Val Loss: 1.31650 | Train Acc: 98.611| Val Acc: 58.594\n",
      "Epoch 168: | Train Loss: 0.38205 | Val Loss: 1.32260 | Train Acc: 98.611| Val Acc: 56.250\n",
      "Epoch 169: | Train Loss: 0.40066 | Val Loss: 1.29779 | Train Acc: 100.000| Val Acc: 56.250\n",
      "Epoch 170: | Train Loss: 0.33243 | Val Loss: 1.28503 | Train Acc: 100.000| Val Acc: 57.812\n",
      "Epoch 171: | Train Loss: 0.33302 | Val Loss: 1.27146 | Train Acc: 98.611| Val Acc: 54.688\n",
      "Epoch 172: | Train Loss: 0.40591 | Val Loss: 1.28505 | Train Acc: 98.611| Val Acc: 54.688\n",
      "Epoch 173: | Train Loss: 0.31749 | Val Loss: 1.23782 | Train Acc: 100.000| Val Acc: 57.031\n",
      "Epoch 174: | Train Loss: 0.37070 | Val Loss: 1.36558 | Train Acc: 100.000| Val Acc: 53.906\n",
      "Epoch 175: | Train Loss: 0.35741 | Val Loss: 1.27162 | Train Acc: 100.000| Val Acc: 55.469\n",
      "Epoch 176: | Train Loss: 0.37120 | Val Loss: 1.35803 | Train Acc: 100.000| Val Acc: 49.219\n",
      "Epoch 177: | Train Loss: 0.41878 | Val Loss: 1.34847 | Train Acc: 100.000| Val Acc: 51.562\n",
      "Epoch 178: | Train Loss: 0.39166 | Val Loss: 1.51149 | Train Acc: 100.000| Val Acc: 48.438\n",
      "Epoch 179: | Train Loss: 0.37243 | Val Loss: 1.40050 | Train Acc: 100.000| Val Acc: 50.781\n",
      "Epoch 180: | Train Loss: 0.36195 | Val Loss: 1.40179 | Train Acc: 100.000| Val Acc: 53.906\n",
      "Epoch 181: | Train Loss: 0.37229 | Val Loss: 1.44123 | Train Acc: 100.000| Val Acc: 53.125\n",
      "Epoch 182: | Train Loss: 0.38222 | Val Loss: 1.40230 | Train Acc: 98.611| Val Acc: 52.344\n",
      "Epoch 183: | Train Loss: 0.40447 | Val Loss: 1.32277 | Train Acc: 98.611| Val Acc: 56.250\n",
      "Epoch 184: | Train Loss: 0.34186 | Val Loss: 1.37017 | Train Acc: 98.611| Val Acc: 53.906\n",
      "Epoch 185: | Train Loss: 0.35979 | Val Loss: 1.29503 | Train Acc: 100.000| Val Acc: 55.469\n",
      "Epoch 186: | Train Loss: 0.34408 | Val Loss: 1.28940 | Train Acc: 100.000| Val Acc: 55.469\n",
      "Epoch 187: | Train Loss: 0.39389 | Val Loss: 1.35874 | Train Acc: 98.611| Val Acc: 53.906\n",
      "Epoch 188: | Train Loss: 0.35213 | Val Loss: 1.35197 | Train Acc: 100.000| Val Acc: 55.469\n",
      "Epoch 189: | Train Loss: 0.39995 | Val Loss: 1.28001 | Train Acc: 98.611| Val Acc: 57.031\n",
      "Epoch 190: | Train Loss: 0.36801 | Val Loss: 1.26915 | Train Acc: 98.611| Val Acc: 58.594\n",
      "Epoch 191: | Train Loss: 0.39512 | Val Loss: 1.38944 | Train Acc: 98.611| Val Acc: 54.688\n",
      "Epoch 192: | Train Loss: 0.39093 | Val Loss: 1.37366 | Train Acc: 100.000| Val Acc: 52.344\n",
      "Epoch 193: | Train Loss: 0.37826 | Val Loss: 1.42685 | Train Acc: 100.000| Val Acc: 52.344\n",
      "Epoch 194: | Train Loss: 0.34392 | Val Loss: 1.38185 | Train Acc: 98.611| Val Acc: 51.562\n",
      "Epoch 195: | Train Loss: 0.34127 | Val Loss: 1.37520 | Train Acc: 100.000| Val Acc: 53.125\n",
      "Epoch 196: | Train Loss: 0.38257 | Val Loss: 1.33120 | Train Acc: 98.611| Val Acc: 53.125\n",
      "Epoch 197: | Train Loss: 0.33510 | Val Loss: 1.29149 | Train Acc: 100.000| Val Acc: 57.031\n",
      "Epoch 198: | Train Loss: 0.38097 | Val Loss: 1.36609 | Train Acc: 98.611| Val Acc: 49.219\n",
      "Epoch 199: | Train Loss: 0.40507 | Val Loss: 1.28629 | Train Acc: 95.833| Val Acc: 54.688\n",
      "Epoch 200: | Train Loss: 0.31057 | Val Loss: 1.35382 | Train Acc: 100.000| Val Acc: 53.906\n",
      "Epoch 201: | Train Loss: 0.37714 | Val Loss: 1.31556 | Train Acc: 100.000| Val Acc: 53.125\n",
      "Epoch 202: | Train Loss: 0.29881 | Val Loss: 1.43706 | Train Acc: 100.000| Val Acc: 48.438\n",
      "Epoch 203: | Train Loss: 0.34997 | Val Loss: 1.31122 | Train Acc: 100.000| Val Acc: 53.906\n",
      "Epoch 204: | Train Loss: 0.37285 | Val Loss: 1.42563 | Train Acc: 100.000| Val Acc: 53.906\n",
      "Epoch 205: | Train Loss: 0.34506 | Val Loss: 1.31743 | Train Acc: 100.000| Val Acc: 54.688\n",
      "Epoch 206: | Train Loss: 0.33363 | Val Loss: 1.32374 | Train Acc: 100.000| Val Acc: 57.031\n",
      "Epoch 207: | Train Loss: 0.33180 | Val Loss: 1.38617 | Train Acc: 100.000| Val Acc: 54.688\n",
      "Epoch 208: | Train Loss: 0.37054 | Val Loss: 1.41595 | Train Acc: 98.611| Val Acc: 56.250\n",
      "Epoch 209: | Train Loss: 0.36564 | Val Loss: 1.37801 | Train Acc: 100.000| Val Acc: 58.594\n",
      "Epoch 210: | Train Loss: 0.34029 | Val Loss: 1.50649 | Train Acc: 100.000| Val Acc: 57.812\n",
      "Epoch 211: | Train Loss: 0.39336 | Val Loss: 1.37080 | Train Acc: 100.000| Val Acc: 53.906\n",
      "Epoch 212: | Train Loss: 0.37288 | Val Loss: 1.39735 | Train Acc: 98.611| Val Acc: 56.250\n",
      "Epoch 213: | Train Loss: 0.39979 | Val Loss: 1.45379 | Train Acc: 98.611| Val Acc: 54.688\n",
      "Epoch 214: | Train Loss: 0.36232 | Val Loss: 1.41580 | Train Acc: 100.000| Val Acc: 57.812\n",
      "Epoch 215: | Train Loss: 0.34436 | Val Loss: 1.32453 | Train Acc: 100.000| Val Acc: 55.469\n",
      "Epoch 216: | Train Loss: 0.35631 | Val Loss: 1.31618 | Train Acc: 98.611| Val Acc: 57.031\n",
      "Epoch 217: | Train Loss: 0.32429 | Val Loss: 1.35296 | Train Acc: 100.000| Val Acc: 59.375\n",
      "Epoch 218: | Train Loss: 0.31697 | Val Loss: 1.37015 | Train Acc: 100.000| Val Acc: 54.688\n",
      "Epoch 219: | Train Loss: 0.35357 | Val Loss: 1.36532 | Train Acc: 98.611| Val Acc: 56.250\n",
      "Epoch 220: | Train Loss: 0.28148 | Val Loss: 1.35069 | Train Acc: 98.611| Val Acc: 54.688\n",
      "Epoch 221: | Train Loss: 0.40688 | Val Loss: 1.31179 | Train Acc: 100.000| Val Acc: 52.344\n",
      "Epoch 222: | Train Loss: 0.39954 | Val Loss: 1.26896 | Train Acc: 100.000| Val Acc: 54.688\n",
      "Epoch 223: | Train Loss: 0.36938 | Val Loss: 1.39848 | Train Acc: 100.000| Val Acc: 53.906\n",
      "Epoch 224: | Train Loss: 0.36412 | Val Loss: 1.36718 | Train Acc: 95.833| Val Acc: 51.562\n",
      "Epoch 225: | Train Loss: 0.36185 | Val Loss: 1.37728 | Train Acc: 98.611| Val Acc: 54.688\n",
      "Epoch 226: | Train Loss: 0.35304 | Val Loss: 1.45092 | Train Acc: 100.000| Val Acc: 51.562\n",
      "Epoch 227: | Train Loss: 0.30346 | Val Loss: 1.36909 | Train Acc: 100.000| Val Acc: 47.656\n",
      "Epoch 228: | Train Loss: 0.29770 | Val Loss: 1.25046 | Train Acc: 100.000| Val Acc: 55.469\n",
      "Epoch 229: | Train Loss: 0.33523 | Val Loss: 1.30602 | Train Acc: 98.611| Val Acc: 57.031\n",
      "Epoch 230: | Train Loss: 0.30249 | Val Loss: 1.35644 | Train Acc: 100.000| Val Acc: 53.906\n",
      "Epoch 231: | Train Loss: 0.30791 | Val Loss: 1.29144 | Train Acc: 98.611| Val Acc: 56.250\n",
      "Epoch 232: | Train Loss: 0.35999 | Val Loss: 1.28057 | Train Acc: 100.000| Val Acc: 53.906\n",
      "Epoch 233: | Train Loss: 0.32022 | Val Loss: 1.40013 | Train Acc: 100.000| Val Acc: 55.469\n",
      "Epoch 234: | Train Loss: 0.33589 | Val Loss: 1.40799 | Train Acc: 98.611| Val Acc: 52.344\n",
      "Epoch 235: | Train Loss: 0.32859 | Val Loss: 1.38745 | Train Acc: 100.000| Val Acc: 50.000\n",
      "Epoch 236: | Train Loss: 0.33811 | Val Loss: 1.40373 | Train Acc: 100.000| Val Acc: 52.344\n",
      "Epoch 237: | Train Loss: 0.29422 | Val Loss: 1.47829 | Train Acc: 100.000| Val Acc: 53.125\n",
      "Epoch 238: | Train Loss: 0.27043 | Val Loss: 1.34700 | Train Acc: 100.000| Val Acc: 52.344\n",
      "Epoch 239: | Train Loss: 0.28044 | Val Loss: 1.36322 | Train Acc: 100.000| Val Acc: 50.000\n",
      "Epoch 240: | Train Loss: 0.32370 | Val Loss: 1.39650 | Train Acc: 100.000| Val Acc: 54.688\n",
      "Epoch 241: | Train Loss: 0.32363 | Val Loss: 1.32357 | Train Acc: 98.611| Val Acc: 57.812\n",
      "Epoch 242: | Train Loss: 0.28538 | Val Loss: 1.31090 | Train Acc: 100.000| Val Acc: 60.156\n",
      "Epoch 243: | Train Loss: 0.29977 | Val Loss: 1.24841 | Train Acc: 100.000| Val Acc: 55.469\n",
      "Epoch 244: | Train Loss: 0.34691 | Val Loss: 1.30116 | Train Acc: 100.000| Val Acc: 54.688\n",
      "Epoch 245: | Train Loss: 0.29906 | Val Loss: 1.36289 | Train Acc: 100.000| Val Acc: 49.219\n",
      "Epoch 246: | Train Loss: 0.29101 | Val Loss: 1.32475 | Train Acc: 100.000| Val Acc: 57.031\n",
      "Epoch 247: | Train Loss: 0.34283 | Val Loss: 1.38917 | Train Acc: 100.000| Val Acc: 51.562\n",
      "Epoch 248: | Train Loss: 0.30133 | Val Loss: 1.38097 | Train Acc: 100.000| Val Acc: 54.688\n",
      "Epoch 249: | Train Loss: 0.30545 | Val Loss: 1.37951 | Train Acc: 100.000| Val Acc: 46.094\n",
      "Epoch 250: | Train Loss: 0.30995 | Val Loss: 1.37096 | Train Acc: 100.000| Val Acc: 52.344\n",
      "Epoch 251: | Train Loss: 0.27785 | Val Loss: 1.30766 | Train Acc: 100.000| Val Acc: 60.156\n",
      "Epoch 252: | Train Loss: 0.39718 | Val Loss: 1.45678 | Train Acc: 100.000| Val Acc: 54.688\n",
      "Epoch 253: | Train Loss: 0.34363 | Val Loss: 1.34322 | Train Acc: 100.000| Val Acc: 56.250\n",
      "Epoch 254: | Train Loss: 0.32803 | Val Loss: 1.35526 | Train Acc: 100.000| Val Acc: 54.688\n",
      "Epoch 255: | Train Loss: 0.30511 | Val Loss: 1.32804 | Train Acc: 100.000| Val Acc: 55.469\n",
      "Epoch 256: | Train Loss: 0.36370 | Val Loss: 1.44521 | Train Acc: 100.000| Val Acc: 55.469\n",
      "Epoch 257: | Train Loss: 0.36313 | Val Loss: 1.35300 | Train Acc: 100.000| Val Acc: 60.938\n",
      "Epoch 258: | Train Loss: 0.33907 | Val Loss: 1.41286 | Train Acc: 100.000| Val Acc: 56.250\n",
      "Epoch 259: | Train Loss: 0.33812 | Val Loss: 1.39103 | Train Acc: 100.000| Val Acc: 55.469\n",
      "Epoch 260: | Train Loss: 0.30552 | Val Loss: 1.32289 | Train Acc: 98.611| Val Acc: 56.250\n",
      "Epoch 261: | Train Loss: 0.28518 | Val Loss: 1.31792 | Train Acc: 100.000| Val Acc: 58.594\n",
      "Epoch 262: | Train Loss: 0.30367 | Val Loss: 1.38638 | Train Acc: 100.000| Val Acc: 54.688\n",
      "Epoch 263: | Train Loss: 0.30971 | Val Loss: 1.29465 | Train Acc: 100.000| Val Acc: 58.594\n",
      "Epoch 264: | Train Loss: 0.38466 | Val Loss: 1.31690 | Train Acc: 100.000| Val Acc: 56.250\n",
      "Epoch 265: | Train Loss: 0.27293 | Val Loss: 1.38368 | Train Acc: 100.000| Val Acc: 53.906\n",
      "Epoch 266: | Train Loss: 0.28515 | Val Loss: 1.37245 | Train Acc: 100.000| Val Acc: 54.688\n",
      "Epoch 267: | Train Loss: 0.35877 | Val Loss: 1.29109 | Train Acc: 98.611| Val Acc: 53.906\n",
      "Epoch 268: | Train Loss: 0.27558 | Val Loss: 1.34062 | Train Acc: 100.000| Val Acc: 55.469\n",
      "Epoch 269: | Train Loss: 0.30302 | Val Loss: 1.29684 | Train Acc: 100.000| Val Acc: 53.906\n",
      "Epoch 270: | Train Loss: 0.36513 | Val Loss: 1.44797 | Train Acc: 97.222| Val Acc: 52.344\n",
      "Epoch 271: | Train Loss: 0.28863 | Val Loss: 1.30644 | Train Acc: 100.000| Val Acc: 53.125\n",
      "Epoch 272: | Train Loss: 0.30572 | Val Loss: 1.25195 | Train Acc: 100.000| Val Acc: 57.031\n",
      "Epoch 273: | Train Loss: 0.25243 | Val Loss: 1.31963 | Train Acc: 100.000| Val Acc: 60.156\n",
      "Epoch 274: | Train Loss: 0.30900 | Val Loss: 1.27776 | Train Acc: 100.000| Val Acc: 57.031\n",
      "Epoch 275: | Train Loss: 0.27695 | Val Loss: 1.33900 | Train Acc: 100.000| Val Acc: 61.719\n",
      "Epoch 276: | Train Loss: 0.28645 | Val Loss: 1.33196 | Train Acc: 100.000| Val Acc: 54.688\n",
      "Epoch 277: | Train Loss: 0.34118 | Val Loss: 1.25551 | Train Acc: 100.000| Val Acc: 60.156\n",
      "Epoch 278: | Train Loss: 0.34642 | Val Loss: 1.30768 | Train Acc: 100.000| Val Acc: 57.031\n",
      "Epoch 279: | Train Loss: 0.30546 | Val Loss: 1.28460 | Train Acc: 98.611| Val Acc: 57.031\n",
      "Epoch 280: | Train Loss: 0.33911 | Val Loss: 1.30032 | Train Acc: 100.000| Val Acc: 59.375\n",
      "Epoch 281: | Train Loss: 0.29624 | Val Loss: 1.23702 | Train Acc: 100.000| Val Acc: 59.375\n",
      "Epoch 282: | Train Loss: 0.27836 | Val Loss: 1.28462 | Train Acc: 100.000| Val Acc: 57.031\n",
      "Epoch 283: | Train Loss: 0.32528 | Val Loss: 1.36724 | Train Acc: 100.000| Val Acc: 57.031\n",
      "Epoch 284: | Train Loss: 0.32163 | Val Loss: 1.33076 | Train Acc: 100.000| Val Acc: 54.688\n",
      "Epoch 285: | Train Loss: 0.32019 | Val Loss: 1.31035 | Train Acc: 100.000| Val Acc: 60.156\n",
      "Epoch 286: | Train Loss: 0.32927 | Val Loss: 1.36351 | Train Acc: 100.000| Val Acc: 55.469\n",
      "Epoch 287: | Train Loss: 0.29949 | Val Loss: 1.28362 | Train Acc: 100.000| Val Acc: 57.031\n",
      "Epoch 288: | Train Loss: 0.27421 | Val Loss: 1.34803 | Train Acc: 100.000| Val Acc: 54.688\n",
      "Epoch 289: | Train Loss: 0.33361 | Val Loss: 1.34349 | Train Acc: 100.000| Val Acc: 53.906\n",
      "Epoch 290: | Train Loss: 0.29863 | Val Loss: 1.38875 | Train Acc: 100.000| Val Acc: 53.125\n",
      "Epoch 291: | Train Loss: 0.28018 | Val Loss: 1.36495 | Train Acc: 100.000| Val Acc: 57.031\n",
      "Epoch 292: | Train Loss: 0.30909 | Val Loss: 1.43695 | Train Acc: 100.000| Val Acc: 52.344\n",
      "Epoch 293: | Train Loss: 0.28764 | Val Loss: 1.40482 | Train Acc: 100.000| Val Acc: 55.469\n",
      "Epoch 294: | Train Loss: 0.30227 | Val Loss: 1.36212 | Train Acc: 100.000| Val Acc: 53.906\n",
      "Epoch 295: | Train Loss: 0.32784 | Val Loss: 1.35384 | Train Acc: 100.000| Val Acc: 54.688\n",
      "Epoch 296: | Train Loss: 0.32980 | Val Loss: 1.34197 | Train Acc: 100.000| Val Acc: 55.469\n",
      "Epoch 297: | Train Loss: 0.30399 | Val Loss: 1.46114 | Train Acc: 100.000| Val Acc: 54.688\n",
      "Epoch 298: | Train Loss: 0.33777 | Val Loss: 1.35425 | Train Acc: 100.000| Val Acc: 58.594\n",
      "Epoch 299: | Train Loss: 0.29774 | Val Loss: 1.42116 | Train Acc: 100.000| Val Acc: 57.812\n",
      "Epoch 300: | Train Loss: 0.33134 | Val Loss: 1.38818 | Train Acc: 100.000| Val Acc: 57.812\n",
      "\n"
     ]
    }
   ],
   "source": [
    "print(\"Begin training.\")\n",
    "\n",
    "for e in tqdm(range(1, EPOCHS+1)):\n",
    "    \n",
    "    # TRAINING\n",
    "    train_epoch_loss = 0\n",
    "    train_epoch_acc = 0\n",
    "\n",
    "    model.train()\n",
    "    for X_train_batch, y_train_batch in train_loader:\n",
    "        X_train_batch, y_train_batch = X_train_batch.to(device), y_train_batch.to(device)\n",
    "        optimizer.zero_grad()\n",
    "        \n",
    "        y_train_pred = model(X_train_batch)\n",
    "        \n",
    "        train_loss = criterion(y_train_pred, y_train_batch)\n",
    "        train_acc = multi_acc(y_train_pred, y_train_batch)\n",
    "        \n",
    "        train_loss.backward()\n",
    "        optimizer.step()\n",
    "        \n",
    "        train_epoch_loss += train_loss.item()\n",
    "        train_epoch_acc += train_acc.item()\n",
    "        \n",
    "        \n",
    "    # VALIDATION    \n",
    "    with torch.no_grad():\n",
    "        \n",
    "        val_epoch_loss = 0\n",
    "        val_epoch_acc = 0\n",
    "        \n",
    "        model.eval()\n",
    "        for X_val_batch, y_val_batch in val_loader:\n",
    "            X_val_batch, y_val_batch = X_val_batch.to(device), y_val_batch.to(device)\n",
    "            \n",
    "            y_val_pred = model(X_val_batch)\n",
    "                        \n",
    "            val_loss = criterion(y_val_pred, y_val_batch)\n",
    "            val_acc = multi_acc(y_val_pred, y_val_batch)\n",
    "            \n",
    "            val_epoch_loss += val_loss.item()\n",
    "            val_epoch_acc += val_acc.item()\n",
    "\n",
    "    \n",
    "        \n",
    "    loss_stats['train'].append(train_epoch_loss/len(train_loader))\n",
    "    loss_stats['val'].append(val_epoch_loss/len(val_loader))\n",
    "    accuracy_stats['train'].append(train_epoch_acc/len(train_loader))\n",
    "    accuracy_stats['val'].append(val_epoch_acc/len(val_loader))\n",
    "                              \n",
    "    \n",
    "    print(f'Epoch {e+0:03}: | Train Loss: {train_epoch_loss/len(train_loader):.5f} | Val Loss: {val_epoch_loss/len(val_loader):.5f} | Train Acc: {train_epoch_acc/len(train_loader):.3f}| Val Acc: {val_epoch_acc/len(val_loader):.3f}')"
   ]
  },
  {
   "cell_type": "markdown",
   "metadata": {},
   "source": [
    "### Visualize Loss and Accuracy"
   ]
  },
  {
   "cell_type": "markdown",
   "metadata": {},
   "source": [
    "To plot the loss and accuracy line plots, we again create a dataframe from the accuracy_stats and loss_stats dictionaries."
   ]
  },
  {
   "cell_type": "code",
   "execution_count": 30,
   "metadata": {},
   "outputs": [
    {
     "data": {
      "text/plain": [
       "Text(0.5, 1.0, 'Train-Val Loss/Epoch')"
      ]
     },
     "execution_count": 30,
     "metadata": {},
     "output_type": "execute_result"
    },
    {
     "data": {
      "image/png": "[encoded data removed]",
      "text/plain": [
       "<Figure size 2160x720 with 2 Axes>"
      ]
     },
     "metadata": {},
     "output_type": "display_data"
    }
   ],
   "source": [
    "train_val_acc_df = pd.DataFrame.from_dict(accuracy_stats).reset_index().melt(id_vars=['index']).rename(columns={\"index\":\"epochs\"})\n",
    "train_val_loss_df = pd.DataFrame.from_dict(loss_stats).reset_index().melt(id_vars=['index']).rename(columns={\"index\":\"epochs\"})\n",
    "\n",
    "fig, axes = plt.subplots(nrows=1, ncols=2, figsize=(30,10))\n",
    "sns.lineplot(data=train_val_acc_df, x = \"epochs\", y=\"value\", hue=\"variable\",  ax=axes[0]).set_title('Train-Val Accuracy/Epoch')\n",
    "sns.lineplot(data=train_val_loss_df, x = \"epochs\", y=\"value\", hue=\"variable\", ax=axes[1]).set_title('Train-Val Loss/Epoch')"
   ]
  },
  {
   "cell_type": "markdown",
   "metadata": {},
   "source": [
    "As you can see, the val_loss starts increasing after around 10 epochs while the train loss keeps decreasing. This means that your model has started to overfit. You can retrain this model to train for ~10 epochs to prevent overfitting. However, I've noticed if I do that, the test F1 score remains around 50% while with this config, it's at 60%. "
   ]
  },
  {
   "cell_type": "markdown",
   "metadata": {},
   "source": [
    "## Test"
   ]
  },
  {
   "cell_type": "markdown",
   "metadata": {},
   "source": [
    "After training is done, we need to test how our model fared. Note that we've used model.eval() before we run our testing code.   \n",
    "To tell PyTorch that we do not want to perform back-propagation during inference, we use torch.no_grad() , just like we did it for the validation loop above.\n",
    "\n",
    "* We start by defining a list that will hold our predictions. Then we loop through our batches using the test_loader. For each batch -\n",
    "* We move our input mini-batch to GPU.\n",
    "* We make the predictions using our trained model.\n",
    "* Apply log_softmax activation to the predictions and pick the index of highest probability.\n",
    "* Move the batch to the GPU from the CPU.\n",
    "* Convert the tensor to a numpy object and append it to our list.\n",
    "* Flatten out the list so that we can use it as an input to confusion_matrix and classification_report ."
   ]
  },
  {
   "cell_type": "code",
   "execution_count": 31,
   "metadata": {},
   "outputs": [],
   "source": [
    "y_pred_list = []\n",
    "\n",
    "with torch.no_grad():\n",
    "    model.eval()\n",
    "    for X_batch, _ in test_loader:\n",
    "        X_batch = X_batch.to(device)\n",
    "        y_test_pred = model(X_batch)\n",
    "        y_pred_softmax = torch.log_softmax(y_test_pred, dim = 1)\n",
    "        _, y_pred_tags = torch.max(y_pred_softmax, dim = 1)\n",
    "        y_pred_list.append(y_pred_tags.cpu().numpy())"
   ]
  },
  {
   "cell_type": "code",
   "execution_count": 32,
   "metadata": {},
   "outputs": [],
   "source": [
    "y_pred_list = [a.squeeze().tolist() for a in y_pred_list]"
   ]
  },
  {
   "cell_type": "markdown",
   "metadata": {},
   "source": [
    "### Confusion Matrix"
   ]
  },
  {
   "cell_type": "markdown",
   "metadata": {},
   "source": [
    "We create a dataframe from the confusion matrix and plot it as a heatmap using the seaborn library."
   ]
  },
  {
   "cell_type": "code",
   "execution_count": 33,
   "metadata": {},
   "outputs": [
    {
     "data": {
      "text/plain": [
       "<matplotlib.axes._subplots.AxesSubplot at 0x7fd960f11b70>"
      ]
     },
     "execution_count": 33,
     "metadata": {},
     "output_type": "execute_result"
    },
    {
     "data": {
      "image/png": "[encoded data removed]",
      "text/plain": [
       "<Figure size 432x288 with 2 Axes>"
      ]
     },
     "metadata": {},
     "output_type": "display_data"
    }
   ],
   "source": [
    "confusion_matrix_df = pd.DataFrame(confusion_matrix(y_test, y_pred_list)).rename(columns=idx2class, index=idx2class)\n",
    "sns.heatmap(confusion_matrix_df, annot=True)"
   ]
  },
  {
   "cell_type": "markdown",
   "metadata": {},
   "source": [
    "### Classification Report"
   ]
  },
  {
   "cell_type": "markdown",
   "metadata": {},
   "source": [
    "Finally, we print out the classification report which contains the precision, recall, and the F1 score."
   ]
  },
  {
   "cell_type": "code",
   "execution_count": 34,
   "metadata": {},
   "outputs": [
    {
     "name": "stdout",
     "output_type": "stream",
     "text": [
      "              precision    recall  f1-score   support\n",
      "\n",
      "           0       0.00      0.00      0.00         2\n",
      "           1       0.14      0.27      0.19        11\n",
      "           2       0.70      0.65      0.67       136\n",
      "           3       0.63      0.57      0.60       128\n",
      "           4       0.49      0.60      0.54        40\n",
      "           5       0.00      0.00      0.00         3\n",
      "\n",
      "    accuracy                           0.59       320\n",
      "   macro avg       0.33      0.35      0.33       320\n",
      "weighted avg       0.62      0.59      0.60       320\n",
      "\n"
     ]
    }
   ],
   "source": [
    "print(classification_report(y_test, y_pred_list))"
   ]
  }
 ],
 "metadata": {
  "kernelspec": {
   "display_name": "Python 3",
   "language": "python",
   "name": "python3"
  },
  "language_info": {
   "codemirror_mode": {
    "name": "ipython",
    "version": 3
   },
   "file_extension": ".py",
   "mimetype": "text/x-python",
   "name": "python",
   "nbconvert_exporter": "python",
   "pygments_lexer": "ipython3",
   "version": "3.8.10"
  }
 },
 "nbformat": 4,
 "nbformat_minor": 4
}
