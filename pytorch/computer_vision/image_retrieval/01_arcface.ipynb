{
 "cells": [
  {
   "cell_type": "markdown",
   "metadata": {},
   "source": [
    "# CV - ArcFace\n",
    "\n",
    "By [Akshaj Verma](https://akshajverma.com)\n",
    "\n",
    "This notebook takes you through the implementation of the paper _ArcFace: Additive Angular Margin Loss for Deep Face Recognition_ in PyTorch."
   ]
  },
  {
   "cell_type": "code",
   "execution_count": 1,
   "metadata": {},
   "outputs": [],
   "source": [
    "import os\n",
    "import numpy as np\n",
    "import pandas as pd\n",
    "from tqdm.notebook import tqdm\n",
    "\n",
    "import seaborn as sns\n",
    "import matplotlib.pyplot as plt\n",
    "from mpl_toolkits.mplot3d import Axes3D\n",
    "\n",
    "import torch\n",
    "import torchvision\n",
    "import torch.nn as nn\n",
    "import torch.optim as optim\n",
    "import torch.nn.functional as F\n",
    "from torchvision import transforms, utils, datasets\n",
    "from torch.utils.data import Dataset, DataLoader, random_split\n",
    "\n",
    "from sklearn.manifold import TSNE\n",
    "from sklearn.model_selection import train_test_split\n",
    "from sklearn.metrics import classification_report, confusion_matrix"
   ]
  },
  {
   "cell_type": "code",
   "execution_count": 2,
   "metadata": {},
   "outputs": [
    {
     "data": {
      "text/plain": [
       "<torch._C.Generator at 0x7f98fd513a50>"
      ]
     },
     "execution_count": 2,
     "metadata": {},
     "output_type": "execute_result"
    }
   ],
   "source": [
    "np.random.seed(0)\n",
    "torch.manual_seed(0)"
   ]
  },
  {
   "cell_type": "code",
   "execution_count": 3,
   "metadata": {},
   "outputs": [],
   "source": [
    "%matplotlib inline\n",
    "sns.set_style('darkgrid')"
   ]
  },
  {
   "cell_type": "markdown",
   "metadata": {},
   "source": [
    "## Define Paths and Set GPU"
   ]
  },
  {
   "cell_type": "code",
   "execution_count": 4,
   "metadata": {},
   "outputs": [
    {
     "name": "stdout",
     "output_type": "stream",
     "text": [
      "We're using => cuda\n",
      "The data lies here => ../../../data/computer_vision/mnist/\n"
     ]
    }
   ],
   "source": [
    "device = torch.device(\"cuda\" if torch.cuda.is_available() else \"cpu\")\n",
    "print(\"We're using =>\", device)\n",
    "\n",
    "root_dir = \"../../../data/computer_vision/mnist/\"\n",
    "print(\"The data lies here =>\", root_dir)"
   ]
  },
  {
   "cell_type": "code",
   "execution_count": 5,
   "metadata": {},
   "outputs": [
    {
     "data": {
      "text/plain": [
       "['train', 'test']"
      ]
     },
     "execution_count": 5,
     "metadata": {},
     "output_type": "execute_result"
    }
   ],
   "source": [
    "os.listdir(root_dir)"
   ]
  },
  {
   "cell_type": "markdown",
   "metadata": {},
   "source": [
    "## Load MNIST Data"
   ]
  },
  {
   "cell_type": "markdown",
   "metadata": {},
   "source": [
    "### Preprocess Images"
   ]
  },
  {
   "cell_type": "markdown",
   "metadata": {},
   "source": [
    "The MNIST-M images are 32x32 while the MNIST images are 28x28. We will resize all images to 28x28 and convert them to tensor. We will also Normalize our images. "
   ]
  },
  {
   "cell_type": "code",
   "execution_count": 6,
   "metadata": {},
   "outputs": [],
   "source": [
    "image_transforms = {\n",
    "    \"train\": transforms.Compose([\n",
    "        transforms.Resize((28, 28)),\n",
    "        transforms.ToTensor()\n",
    "    ]),\n",
    "    \"test\": transforms.Compose([\n",
    "        transforms.Resize((28, 28)),\n",
    "        transforms.ToTensor()\n",
    "    ])\n",
    "}"
   ]
  },
  {
   "cell_type": "markdown",
   "metadata": {},
   "source": [
    "### Create Train and Test Datasets"
   ]
  },
  {
   "cell_type": "code",
   "execution_count": 7,
   "metadata": {},
   "outputs": [],
   "source": [
    "# mnist\n",
    "mnist_dataset_train = datasets.ImageFolder(root = root_dir + \"train\",\n",
    "                                           transform = image_transforms[\"train\"]\n",
    "                                          )\n",
    "\n",
    "mnist_dataset_test = datasets.ImageFolder(root = root_dir + \"test\",\n",
    "                                           transform = image_transforms[\"test\"]\n",
    "                                          )"
   ]
  },
  {
   "cell_type": "markdown",
   "metadata": {},
   "source": [
    "### Create Dataloader"
   ]
  },
  {
   "cell_type": "code",
   "execution_count": 8,
   "metadata": {},
   "outputs": [],
   "source": [
    "BATCH_SIZE = 32\n",
    "\n",
    "mnist_loader_train = torch.utils.data.DataLoader(mnist_dataset_train, batch_size=BATCH_SIZE, shuffle=True)\n",
    "mnist_loader_test = torch.utils.data.DataLoader(mnist_dataset_test, batch_size=1, shuffle=False)"
   ]
  },
  {
   "cell_type": "markdown",
   "metadata": {},
   "source": [
    "### Explore Data"
   ]
  },
  {
   "cell_type": "markdown",
   "metadata": {},
   "source": [
    "#### Create ID <=> Class Mapping"
   ]
  },
  {
   "cell_type": "code",
   "execution_count": 9,
   "metadata": {},
   "outputs": [
    {
     "data": {
      "text/plain": [
       "{'0': 0,\n",
       " '1': 1,\n",
       " '2': 2,\n",
       " '3': 3,\n",
       " '4': 4,\n",
       " '5': 5,\n",
       " '6': 6,\n",
       " '7': 7,\n",
       " '8': 8,\n",
       " '9': 9}"
      ]
     },
     "execution_count": 9,
     "metadata": {},
     "output_type": "execute_result"
    }
   ],
   "source": [
    "mnist_dataset_train.class_to_idx"
   ]
  },
  {
   "cell_type": "code",
   "execution_count": 10,
   "metadata": {},
   "outputs": [
    {
     "data": {
      "text/plain": [
       "{0: '0',\n",
       " 1: '1',\n",
       " 2: '2',\n",
       " 3: '3',\n",
       " 4: '4',\n",
       " 5: '5',\n",
       " 6: '6',\n",
       " 7: '7',\n",
       " 8: '8',\n",
       " 9: '9'}"
      ]
     },
     "execution_count": 10,
     "metadata": {},
     "output_type": "execute_result"
    }
   ],
   "source": [
    "idx2class = {v: k for k, v in mnist_dataset_train.class_to_idx.items()}\n",
    "idx2class"
   ]
  },
  {
   "cell_type": "markdown",
   "metadata": {},
   "source": [
    "## Train on MNIST"
   ]
  },
  {
   "cell_type": "markdown",
   "metadata": {},
   "source": [
    "### Model Definition"
   ]
  },
  {
   "cell_type": "code",
   "execution_count": 11,
   "metadata": {},
   "outputs": [],
   "source": [
    "class ArcFaceLayer(nn.Module):\n",
    "    def __init__(self, in_features, out_features, margin, scale):\n",
    "        super(ArcFaceLayer, self).__init__()\n",
    "        \n",
    "        self.out_features = out_features\n",
    "        self.margin = margin\n",
    "        self.scale = scale\n",
    "        \n",
    "        self.weights = nn.Parameter(torch.Tensor(in_features, out_features))\n",
    "        nn.init.kaiming_uniform_(self.weights)\n",
    "    \n",
    "    \n",
    "    def forward(self, x, y):\n",
    "        x = F.normalize(x)\n",
    "        w = F.normalize(self.weights, dim = 0)\n",
    "        \n",
    "        z = F.linear(x, w.t(), bias=None)\n",
    "        z = z.clip(-1+1e-7, 1-1e-7)\n",
    "        \n",
    "        theta = torch.acos(z)\n",
    "        \n",
    "        y_ohe = F.one_hot(y, num_classes=self.out_features) * self.margin\n",
    "        \n",
    "        theta += y_ohe\n",
    "        \n",
    "        logit = torch.cos(theta) * self.scale\n",
    "        \n",
    "        return logit"
   ]
  },
  {
   "cell_type": "code",
   "execution_count": 12,
   "metadata": {},
   "outputs": [
    {
     "name": "stdout",
     "output_type": "stream",
     "text": [
      "torch.Size([4, 20]) torch.Size([4])\n"
     ]
    }
   ],
   "source": [
    "nc = 10\n",
    "bs = 4\n",
    "inp = torch.randn(bs, 20)\n",
    "out = torch.arange(0, 4)\n",
    "\n",
    "print(inp.shape, out.shape)\n",
    "\n",
    "arcface = ArcFaceLayer(in_features=20, out_features=nc, margin=0.5, scale=64)"
   ]
  },
  {
   "cell_type": "code",
   "execution_count": 13,
   "metadata": {},
   "outputs": [
    {
     "data": {
      "text/plain": [
       "tensor([[-24.4040,  -1.0503, -22.1329,  -3.0394,  -1.9205,  23.1811, -16.2176,\n",
       "          10.7308,   6.3540,  24.5875],\n",
       "        [-13.4032, -39.1501,  -0.9759,  13.1447,  15.7241,  -7.7913,  -5.0841,\n",
       "         -17.2521,   9.9530,  -4.8562],\n",
       "        [ -9.5502,  -0.3265, -36.2909,  13.5779,  -7.1374,  -5.2047,  -1.2488,\n",
       "          -2.5875,   5.6342,  17.9715],\n",
       "        [ 18.5096, -21.7403,  10.0308, -15.8909, -14.2189,   0.1537,   2.1041,\n",
       "         -16.5752,   9.8097,  -5.5590]], grad_fn=<MulBackward0>)"
      ]
     },
     "execution_count": 13,
     "metadata": {},
     "output_type": "execute_result"
    }
   ],
   "source": [
    "arcface(inp, out)"
   ]
  },
  {
   "cell_type": "code",
   "execution_count": 14,
   "metadata": {},
   "outputs": [],
   "source": [
    "class ModelMnistSource(nn.Module):\n",
    "    def __init__(self, model_type):\n",
    "        super(ModelMnistSource, self).__init__()\n",
    "        \n",
    "        self.model_type = model_type\n",
    "        \n",
    "        self.conv_block_1 = self.conv_block(c_in=3, c_out=20, kernel_size=3, stride=1, padding=1)\n",
    "        self.conv_block_2 = self.conv_block(c_in=20, c_out=30, kernel_size=3, stride=1, padding=1)\n",
    "        \n",
    "        self.fc1 = nn.Linear(7*7*30, 3)\n",
    "        \n",
    "        if self.model_type == \"arcface\":\n",
    "            self.arcface = ArcFaceLayer(in_features=3, out_features=10, margin=0.5, scale=64)\n",
    "        elif self.model_type == \"normal\":\n",
    "            self.fc2 = nn.Linear(3, 10)\n",
    "        else:\n",
    "            raise ValueError(\"Incorrect model type.\")\n",
    "        \n",
    "        self.maxpool = nn.MaxPool2d(kernel_size=2, stride=2)\n",
    "        \n",
    "    def forward(self, x, y):\n",
    "        x = self.maxpool(self.conv_block_1(x))\n",
    "        x = self.maxpool(self.conv_block_2(x))\n",
    "        x = x.view(x.shape[0], -1)\n",
    "        x = self.fc1(x)\n",
    "        \n",
    "        if self.model_type == \"arcface\":\n",
    "            x = self.arcface(x, y)\n",
    "        elif self.model_type == \"normal\":\n",
    "            x = self.fc2(x)\n",
    "        else:\n",
    "            raise ValueError(\"Incorrect model type.\")\n",
    "        \n",
    "        return x\n",
    "    \n",
    "    def get_embeddings(self, x):\n",
    "        x = self.maxpool(self.conv_block_1(x))\n",
    "        x = self.maxpool(self.conv_block_2(x))\n",
    "        x = x.view(x.shape[0], -1)\n",
    "        x = self.fc1(x)\n",
    "        \n",
    "        return x\n",
    "    \n",
    "    def conv_block(self, c_in, c_out, **kwargs):\n",
    "        seq_block = nn.Sequential(\n",
    "            nn.Conv2d(in_channels=c_in, out_channels=c_out, **kwargs),\n",
    "            nn.BatchNorm2d(num_features=c_out),\n",
    "            nn.ReLU()\n",
    "        )\n",
    "        \n",
    "        return seq_block "
   ]
  },
  {
   "cell_type": "markdown",
   "metadata": {},
   "source": [
    "### Initialize Model"
   ]
  },
  {
   "cell_type": "code",
   "execution_count": 15,
   "metadata": {},
   "outputs": [
    {
     "name": "stdout",
     "output_type": "stream",
     "text": [
      "We're using cuda.\n",
      "\n"
     ]
    }
   ],
   "source": [
    "model_arcface = ModelMnistSource(model_type=\"arcface\")\n",
    "model_normal = ModelMnistSource(model_type=\"normal\")\n",
    "\n",
    "print(f\"We're using {device}.\\n\")\n",
    "model_arcface.to(device)\n",
    "model_normal.to(device)\n",
    "\n",
    "criterion = nn.CrossEntropyLoss()\n",
    "optimizer_arcface = optim.Adam(model_arcface.parameters(), lr=0.001)\n",
    "optimizer_normal = optim.Adam(model_normal.parameters(), lr=0.001)"
   ]
  },
  {
   "cell_type": "code",
   "execution_count": 16,
   "metadata": {},
   "outputs": [],
   "source": [
    "def multi_acc(y_pred, y_test):\n",
    "    y_pred_softmax = torch.log_softmax(y_pred, dim = 1)\n",
    "    _, y_pred_tags = torch.max(y_pred_softmax, dim = 1)    \n",
    "    \n",
    "    correct_pred = (y_pred_tags == y_test).float()\n",
    "    acc = correct_pred.sum() / len(correct_pred)\n",
    "    \n",
    "    acc = torch.round(acc) * 100\n",
    "    \n",
    "    return acc"
   ]
  },
  {
   "cell_type": "markdown",
   "metadata": {},
   "source": [
    "### Train Loop"
   ]
  },
  {
   "cell_type": "code",
   "execution_count": 17,
   "metadata": {},
   "outputs": [],
   "source": [
    "def train_loop(model, data_loader_train, epochs, optimizer, criterion):\n",
    "    \n",
    "    print(f\"{model.__class__.__name__} - {model.model_type} training has started.\\n\")\n",
    "    \n",
    "    for e in tqdm(range(1, epochs + 1)):\n",
    "        train_epoch_loss = 0\n",
    "        train_epoch_acc = 0\n",
    "\n",
    "        model.train()\n",
    "        for X_train_batch, y_train_batch in data_loader_train:\n",
    "            X_train_batch, y_train_batch = X_train_batch.to(device), y_train_batch.to(device)\n",
    "            optimizer.zero_grad()\n",
    "\n",
    "            y_train_pred = model(X_train_batch, y_train_batch).squeeze()\n",
    "\n",
    "            train_loss = criterion(y_train_pred, y_train_batch)\n",
    "            train_acc = multi_acc(y_train_pred, y_train_batch)\n",
    "\n",
    "            train_loss.backward()\n",
    "            optimizer.step()\n",
    "\n",
    "            train_epoch_loss += train_loss.item()\n",
    "            train_epoch_acc += train_acc.item()\n",
    "\n",
    "        print(f'Epoch {e+0:03}: | Train Loss: {train_epoch_loss/len(data_loader_train):.5f} | Train Acc: {train_epoch_acc/len(data_loader_train):.3f}')\n",
    "    \n",
    "    print(\"\\n\\n\")\n",
    "    return model"
   ]
  },
  {
   "cell_type": "code",
   "execution_count": 18,
   "metadata": {},
   "outputs": [
    {
     "name": "stdout",
     "output_type": "stream",
     "text": [
      "ModelMnistSource - normal training has started.\n",
      "\n"
     ]
    },
    {
     "data": {
      "application/vnd.jupyter.widget-view+json": {
       "model_id": "8e5dbb0b0c794c2db2dee61f09466bd8",
       "version_major": 2,
       "version_minor": 0
      },
      "text/plain": [
       "HBox(children=(FloatProgress(value=0.0, max=20.0), HTML(value='')))"
      ]
     },
     "metadata": {},
     "output_type": "display_data"
    },
    {
     "name": "stdout",
     "output_type": "stream",
     "text": [
      "Epoch 001: | Train Loss: 0.37742 | Train Acc: 96.747\n",
      "Epoch 002: | Train Loss: 0.17006 | Train Acc: 100.000\n",
      "Epoch 003: | Train Loss: 0.13707 | Train Acc: 100.000\n",
      "Epoch 004: | Train Loss: 0.11698 | Train Acc: 100.000\n",
      "Epoch 005: | Train Loss: 0.10496 | Train Acc: 100.000\n",
      "Epoch 006: | Train Loss: 0.09353 | Train Acc: 100.000\n",
      "Epoch 007: | Train Loss: 0.08547 | Train Acc: 100.000\n",
      "Epoch 008: | Train Loss: 0.07889 | Train Acc: 100.000\n",
      "Epoch 009: | Train Loss: 0.07355 | Train Acc: 100.000\n",
      "Epoch 010: | Train Loss: 0.06800 | Train Acc: 100.000\n",
      "Epoch 011: | Train Loss: 0.06391 | Train Acc: 100.000\n",
      "Epoch 012: | Train Loss: 0.06061 | Train Acc: 100.000\n",
      "Epoch 013: | Train Loss: 0.05732 | Train Acc: 100.000\n",
      "Epoch 014: | Train Loss: 0.05409 | Train Acc: 100.000\n",
      "Epoch 015: | Train Loss: 0.05068 | Train Acc: 100.000\n",
      "Epoch 016: | Train Loss: 0.04919 | Train Acc: 100.000\n",
      "Epoch 017: | Train Loss: 0.04693 | Train Acc: 100.000\n",
      "Epoch 018: | Train Loss: 0.04324 | Train Acc: 100.000\n",
      "Epoch 019: | Train Loss: 0.04259 | Train Acc: 100.000\n",
      "Epoch 020: | Train Loss: 0.03934 | Train Acc: 100.000\n",
      "\n",
      "\n",
      "\n",
      "\n",
      "ModelMnistSource - arcface training has started.\n",
      "\n"
     ]
    },
    {
     "data": {
      "application/vnd.jupyter.widget-view+json": {
       "model_id": "fdac94f968d544a0a7f7acbb0a3bb083",
       "version_major": 2,
       "version_minor": 0
      },
      "text/plain": [
       "HBox(children=(FloatProgress(value=0.0, max=20.0), HTML(value='')))"
      ]
     },
     "metadata": {},
     "output_type": "display_data"
    },
    {
     "name": "stdout",
     "output_type": "stream",
     "text": [
      "Epoch 001: | Train Loss: 15.38164 | Train Acc: 51.573\n",
      "Epoch 002: | Train Loss: 4.52858 | Train Acc: 99.520\n",
      "Epoch 003: | Train Loss: 3.58369 | Train Acc: 99.947\n",
      "Epoch 004: | Train Loss: 3.10097 | Train Acc: 100.000\n",
      "Epoch 005: | Train Loss: 2.81970 | Train Acc: 100.000\n",
      "Epoch 006: | Train Loss: 2.58188 | Train Acc: 100.000\n",
      "Epoch 007: | Train Loss: 2.43978 | Train Acc: 100.000\n",
      "Epoch 008: | Train Loss: 2.24775 | Train Acc: 100.000\n",
      "Epoch 009: | Train Loss: 2.13498 | Train Acc: 100.000\n",
      "Epoch 010: | Train Loss: 2.01940 | Train Acc: 100.000\n",
      "Epoch 011: | Train Loss: 1.95155 | Train Acc: 100.000\n",
      "Epoch 012: | Train Loss: 1.86907 | Train Acc: 100.000\n",
      "Epoch 013: | Train Loss: 1.78354 | Train Acc: 100.000\n",
      "Epoch 014: | Train Loss: 1.69591 | Train Acc: 100.000\n",
      "Epoch 015: | Train Loss: 1.64740 | Train Acc: 100.000\n",
      "Epoch 016: | Train Loss: 1.57715 | Train Acc: 100.000\n",
      "Epoch 017: | Train Loss: 1.51526 | Train Acc: 100.000\n",
      "Epoch 018: | Train Loss: 1.45387 | Train Acc: 100.000\n",
      "Epoch 019: | Train Loss: 1.42601 | Train Acc: 100.000\n",
      "Epoch 020: | Train Loss: 1.43479 | Train Acc: 100.000\n",
      "\n",
      "\n",
      "\n",
      "\n"
     ]
    }
   ],
   "source": [
    "EPOCHS = 20\n",
    "model_normal_trained = train_loop(model_normal, mnist_loader_train, EPOCHS, optimizer_normal, criterion)\n",
    "model_arcface_trained = train_loop(model_arcface, mnist_loader_train, EPOCHS, optimizer_arcface, criterion)"
   ]
  },
  {
   "cell_type": "markdown",
   "metadata": {},
   "source": [
    "## Test on MNIST"
   ]
  },
  {
   "cell_type": "code",
   "execution_count": 19,
   "metadata": {},
   "outputs": [],
   "source": [
    "def test_loop(model, data_loader_test):\n",
    "    y_pred_list = []\n",
    "    y_true_list = []\n",
    "\n",
    "    with torch.no_grad():\n",
    "        model.eval()\n",
    "        for x_batch, y_batch in tqdm(data_loader_test):\n",
    "            x_batch, y_batch = x_batch.to(device), y_batch.to(device)\n",
    "\n",
    "            y_test_pred = model(x_batch, y_batch)\n",
    "\n",
    "            y_test_pred = torch.log_softmax(y_test_pred, dim=1)\n",
    "            _, y_pred_tag = torch.max(y_test_pred, dim = 1)\n",
    "\n",
    "            y_pred_list.append(y_pred_tag.cpu().numpy())\n",
    "            y_true_list.append(y_batch.cpu().numpy())\n",
    "\n",
    "\n",
    "    y_pred_list = [i[0] for i in y_pred_list]\n",
    "    y_true_list = [i[0] for i in y_true_list]\n",
    "    \n",
    "    return y_pred_list, y_true_list"
   ]
  },
  {
   "cell_type": "code",
   "execution_count": 20,
   "metadata": {},
   "outputs": [
    {
     "data": {
      "application/vnd.jupyter.widget-view+json": {
       "model_id": "08b1113667fb47ebb3e173f11a447faf",
       "version_major": 2,
       "version_minor": 0
      },
      "text/plain": [
       "HBox(children=(FloatProgress(value=0.0, max=10000.0), HTML(value='')))"
      ]
     },
     "metadata": {},
     "output_type": "display_data"
    },
    {
     "name": "stdout",
     "output_type": "stream",
     "text": [
      "\n"
     ]
    },
    {
     "data": {
      "application/vnd.jupyter.widget-view+json": {
       "model_id": "5069401094c14b70b3250dc30f0a6b7e",
       "version_major": 2,
       "version_minor": 0
      },
      "text/plain": [
       "HBox(children=(FloatProgress(value=0.0, max=10000.0), HTML(value='')))"
      ]
     },
     "metadata": {},
     "output_type": "display_data"
    },
    {
     "name": "stdout",
     "output_type": "stream",
     "text": [
      "\n"
     ]
    }
   ],
   "source": [
    "normal_y_pred_list, normal_y_true_list = test_loop(model_normal_trained, mnist_loader_test)\n",
    "arcface_y_pred_list, arcface_y_true_list = test_loop(model_arcface_trained, mnist_loader_test)"
   ]
  },
  {
   "cell_type": "code",
   "execution_count": 21,
   "metadata": {},
   "outputs": [],
   "source": [
    "def get_acc_report(model_type, y_true_list, y_pred_list):\n",
    "    print(f\"{model_type} classification report.\")\n",
    "    print(classification_report(y_true_list, y_pred_list))"
   ]
  },
  {
   "cell_type": "code",
   "execution_count": 22,
   "metadata": {},
   "outputs": [
    {
     "name": "stdout",
     "output_type": "stream",
     "text": [
      "normal classification report.\n",
      "              precision    recall  f1-score   support\n",
      "\n",
      "           0       0.99      0.97      0.98       996\n",
      "           1       0.98      0.98      0.98      1136\n",
      "           2       0.97      0.95      0.96      1055\n",
      "           3       0.97      0.96      0.97      1017\n",
      "           4       0.96      0.99      0.98       951\n",
      "           5       0.97      0.98      0.98       880\n",
      "           6       0.97      0.97      0.97       957\n",
      "           7       0.97      0.97      0.97      1032\n",
      "           8       0.95      0.97      0.96       956\n",
      "           9       0.97      0.96      0.97      1020\n",
      "\n",
      "    accuracy                           0.97     10000\n",
      "   macro avg       0.97      0.97      0.97     10000\n",
      "weighted avg       0.97      0.97      0.97     10000\n",
      "\n",
      "arcface classification report.\n",
      "              precision    recall  f1-score   support\n",
      "\n",
      "           0       0.92      0.94      0.93       960\n",
      "           1       0.93      0.86      0.90      1222\n",
      "           2       0.90      0.87      0.88      1072\n",
      "           3       0.88      0.88      0.88      1008\n",
      "           4       0.90      0.89      0.90       987\n",
      "           5       0.91      0.85      0.88       952\n",
      "           6       0.90      0.88      0.89       983\n",
      "           7       0.86      0.90      0.88       978\n",
      "           8       0.89      0.91      0.90       960\n",
      "           9       0.83      0.96      0.89       878\n",
      "\n",
      "    accuracy                           0.89     10000\n",
      "   macro avg       0.89      0.89      0.89     10000\n",
      "weighted avg       0.89      0.89      0.89     10000\n",
      "\n"
     ]
    }
   ],
   "source": [
    "get_acc_report(\"normal\", normal_y_pred_list, normal_y_true_list)\n",
    "get_acc_report(\"arcface\", arcface_y_pred_list, arcface_y_true_list)"
   ]
  },
  {
   "cell_type": "markdown",
   "metadata": {},
   "source": [
    "## Visualize Embeddings"
   ]
  },
  {
   "cell_type": "code",
   "execution_count": 23,
   "metadata": {},
   "outputs": [],
   "source": [
    "class_names = [i.item() for i in arcface_y_true_list]"
   ]
  },
  {
   "cell_type": "code",
   "execution_count": 24,
   "metadata": {},
   "outputs": [],
   "source": [
    "def generate_embeddings(model, data_loader_test):\n",
    "    \n",
    "    print(f\"Generating and compressing embeddings - {model.model_type}\")\n",
    "\n",
    "    emb_list = []\n",
    "    with torch.no_grad():\n",
    "        model.eval()\n",
    "        for x_batch, y_batch in tqdm(data_loader_test):\n",
    "            x_batch, y_batch = x_batch.to(device), y_batch.to(device)\n",
    "\n",
    "            emb = model.get_embeddings(x_batch)\n",
    "            emb_list.append(emb.cpu().tolist()[0])\n",
    "            \n",
    "#     compressed_embeddings = TSNE(n_components=3).fit_transform(emb_list)\n",
    "    \n",
    "    return emb_list"
   ]
  },
  {
   "cell_type": "code",
   "execution_count": 25,
   "metadata": {},
   "outputs": [
    {
     "name": "stdout",
     "output_type": "stream",
     "text": [
      "Generating and compressing embeddings - arcface\n"
     ]
    },
    {
     "data": {
      "application/vnd.jupyter.widget-view+json": {
       "model_id": "9a885a141a3b423d96605add3f1d55e3",
       "version_major": 2,
       "version_minor": 0
      },
      "text/plain": [
       "HBox(children=(FloatProgress(value=0.0, max=10000.0), HTML(value='')))"
      ]
     },
     "metadata": {},
     "output_type": "display_data"
    },
    {
     "name": "stdout",
     "output_type": "stream",
     "text": [
      "\n",
      "Generating and compressing embeddings - normal\n"
     ]
    },
    {
     "data": {
      "application/vnd.jupyter.widget-view+json": {
       "model_id": "786d24e802c4468e83e4b1c2af1d2416",
       "version_major": 2,
       "version_minor": 0
      },
      "text/plain": [
       "HBox(children=(FloatProgress(value=0.0, max=10000.0), HTML(value='')))"
      ]
     },
     "metadata": {},
     "output_type": "display_data"
    },
    {
     "name": "stdout",
     "output_type": "stream",
     "text": [
      "\n"
     ]
    }
   ],
   "source": [
    "arcface_embeddings = generate_embeddings(model_arcface_trained, mnist_loader_test)\n",
    "normal_embeddings = generate_embeddings(model_normal_trained, mnist_loader_test)"
   ]
  },
  {
   "cell_type": "code",
   "execution_count": 26,
   "metadata": {},
   "outputs": [],
   "source": [
    "def visualize_embeddings(compressed_embeddings, class_names, model_type):\n",
    "    \n",
    "    print(f\"Visualizing embeddings - {model_type}\")\n",
    "    \n",
    "    df = pd.DataFrame(compressed_embeddings, columns=[\"x0\", \"x1\", \"x2\"])\n",
    "    df[\"colour\"] = class_names\n",
    "\n",
    "    fig = plt.figure()\n",
    "    ax = fig.add_subplot(111, projection = '3d')\n",
    "    ax.scatter(df[\"x0\"], df[\"x1\"], df[\"x2\"], c=df['colour'])\n",
    "\n",
    "    plt.show()"
   ]
  },
  {
   "cell_type": "code",
   "execution_count": 27,
   "metadata": {},
   "outputs": [
    {
     "name": "stdout",
     "output_type": "stream",
     "text": [
      "Visualizing embeddings - arcface\n"
     ]
    },
    {
     "data": {
      "image/png": "[encoded data removed]",
      "text/plain": [
       "<Figure size 432x288 with 1 Axes>"
      ]
     },
     "metadata": {},
     "output_type": "display_data"
    }
   ],
   "source": [
    "visualize_embeddings(arcface_embeddings, class_names, \"arcface\")"
   ]
  },
  {
   "cell_type": "code",
   "execution_count": 28,
   "metadata": {},
   "outputs": [
    {
     "name": "stdout",
     "output_type": "stream",
     "text": [
      "Visualizing embeddings - normal\n"
     ]
    },
    {
     "data": {
      "image/png": "[encoded data removed]",
      "text/plain": [
       "<Figure size 432x288 with 1 Axes>"
      ]
     },
     "metadata": {},
     "output_type": "display_data"
    }
   ],
   "source": [
    "visualize_embeddings(normal_embeddings, class_names, \"normal\")"
   ]
  }
 ],
 "metadata": {
  "kernelspec": {
   "display_name": "Python 3",
   "language": "python",
   "name": "python3"
  },
  "language_info": {
   "codemirror_mode": {
    "name": "ipython",
    "version": 3
   },
   "file_extension": ".py",
   "mimetype": "text/x-python",
   "name": "python",
   "nbconvert_exporter": "python",
   "pygments_lexer": "ipython3",
   "version": "3.6.10"
  }
 },
 "nbformat": 4,
 "nbformat_minor": 4
}
